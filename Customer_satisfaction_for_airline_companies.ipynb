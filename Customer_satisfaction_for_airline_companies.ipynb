{
  "cells": [
    {
      "cell_type": "code",
      "execution_count": null,
      "id": "9c9da801",
      "metadata": {
        "id": "9c9da801"
      },
      "outputs": [],
      "source": [
        "import numpy as np\n",
        "import pandas as pd\n",
        "import seaborn as sns"
      ]
    },
    {
      "cell_type": "code",
      "execution_count": null,
      "id": "220da47f",
      "metadata": {
        "id": "220da47f"
      },
      "outputs": [],
      "source": [
        "#Lecture de dataset\n",
        "df=pd.read_csv (\"Invistico_Airline.csv\" )"
      ]
    },
    {
      "cell_type": "code",
      "execution_count": null,
      "id": "2aec9337",
      "metadata": {
        "id": "2aec9337",
        "outputId": "ff27c0b4-b4e6-4c5e-e6b9-fa34b1185967"
      },
      "outputs": [
        {
          "data": {
            "text/plain": [
              "(129880, 23)"
            ]
          },
          "execution_count": 3,
          "metadata": {},
          "output_type": "execute_result"
        }
      ],
      "source": [
        "df.shape"
      ]
    },
    {
      "cell_type": "code",
      "execution_count": null,
      "id": "11154d3e",
      "metadata": {
        "id": "11154d3e",
        "outputId": "eda3f96d-cd1d-4d29-97f9-4bf115154e40"
      },
      "outputs": [
        {
          "data": {
            "text/plain": [
              "<bound method DataFrame.info of         satisfaction  Gender  Customer Type  Age  Type of Travel  \\\n",
              "0                  1       0              1  4.0               0   \n",
              "1                  1       1              1  3.0               0   \n",
              "2                  1       0              1  0.0               0   \n",
              "3                  1       0              1  4.0               0   \n",
              "4                  1       0              1  4.0               0   \n",
              "...              ...     ...            ...  ...             ...   \n",
              "129875             1       0              0  1.0               0   \n",
              "129876             0       1              0  4.0               0   \n",
              "129877             0       1              0  4.0               0   \n",
              "129878             0       1              0  4.0               0   \n",
              "129879             0       0              0  2.0               0   \n",
              "\n",
              "        Flight Distance  Seat comfort  Departure/Arrival time convenient  \\\n",
              "0                   0.0             0                                  0   \n",
              "1                   1.0             0                                  0   \n",
              "2                   1.0             0                                  0   \n",
              "3                   0.0             0                                  0   \n",
              "4                   0.0             0                                  0   \n",
              "...                 ...           ...                                ...   \n",
              "129875              1.0             5                                  5   \n",
              "129876              1.0             2                                  3   \n",
              "129877              1.0             3                                  0   \n",
              "129878              1.0             3                                  2   \n",
              "129879              3.0             3                                  4   \n",
              "\n",
              "        Food and drink  Gate location  ...  Ease of Online booking  \\\n",
              "0                    0              2  ...                       3   \n",
              "1                    0              3  ...                       3   \n",
              "2                    0              3  ...                       2   \n",
              "3                    0              3  ...                       1   \n",
              "4                    0              3  ...                       2   \n",
              "...                ...            ...  ...                     ...   \n",
              "129875               5              3  ...                       2   \n",
              "129876               2              4  ...                       3   \n",
              "129877               3              3  ...                       4   \n",
              "129878               3              2  ...                       3   \n",
              "129879               3              3  ...                       4   \n",
              "\n",
              "        On-board service  Leg room service  Baggage handling  Checkin service  \\\n",
              "0                      3                 0                 3                5   \n",
              "1                      4                 4                 4                2   \n",
              "2                      3                 3                 4                4   \n",
              "3                      1                 0                 1                4   \n",
              "4                      2                 0                 2                4   \n",
              "...                  ...               ...               ...              ...   \n",
              "129875                 3                 3                 4                4   \n",
              "129876                 2                 3                 3                1   \n",
              "129877                 4                 3                 4                2   \n",
              "129878                 3                 2                 3                2   \n",
              "129879                 5                 5                 5                3   \n",
              "\n",
              "        Cleanliness  Online boarding  Departure Delay in Minutes  \\\n",
              "0                 3                2                         0.0   \n",
              "1                 3                2                         0.0   \n",
              "2                 4                2                         0.0   \n",
              "3                 1                3                         0.0   \n",
              "4                 2                5                         0.0   \n",
              "...             ...              ...                         ...   \n",
              "129875            4                2                         0.0   \n",
              "129876            2                1                         0.0   \n",
              "129877            3                2                         0.0   \n",
              "129878            1                2                         0.0   \n",
              "129879            3                3                         0.0   \n",
              "\n",
              "        Arrival Delay in Minutes  Class_cat  \n",
              "0                            0.0          1  \n",
              "1                            0.0          0  \n",
              "2                            0.0          1  \n",
              "3                            0.0          1  \n",
              "4                            0.0          1  \n",
              "...                          ...        ...  \n",
              "129875                       0.0          1  \n",
              "129876                       0.0          0  \n",
              "129877                       0.0          1  \n",
              "129878                       0.0          1  \n",
              "129879                       0.0          1  \n",
              "\n",
              "[129487 rows x 23 columns]>"
            ]
          },
          "execution_count": 90,
          "metadata": {},
          "output_type": "execute_result"
        }
      ],
      "source": [
        "df.info"
      ]
    },
    {
      "cell_type": "code",
      "execution_count": null,
      "id": "f0ee0738",
      "metadata": {
        "id": "f0ee0738",
        "outputId": "697de698-c0e9-4c5c-dd43-2a4ff76adb97"
      },
      "outputs": [
        {
          "data": {
            "text/html": [
              "<div>\n",
              "<style scoped>\n",
              "    .dataframe tbody tr th:only-of-type {\n",
              "        vertical-align: middle;\n",
              "    }\n",
              "\n",
              "    .dataframe tbody tr th {\n",
              "        vertical-align: top;\n",
              "    }\n",
              "\n",
              "    .dataframe thead th {\n",
              "        text-align: right;\n",
              "    }\n",
              "</style>\n",
              "<table border=\"1\" class=\"dataframe\">\n",
              "  <thead>\n",
              "    <tr style=\"text-align: right;\">\n",
              "      <th></th>\n",
              "      <th>satisfaction</th>\n",
              "      <th>Gender</th>\n",
              "      <th>Customer Type</th>\n",
              "      <th>Age</th>\n",
              "      <th>Type of Travel</th>\n",
              "      <th>Class</th>\n",
              "      <th>Flight Distance</th>\n",
              "      <th>Seat comfort</th>\n",
              "      <th>Departure/Arrival time convenient</th>\n",
              "      <th>Food and drink</th>\n",
              "      <th>...</th>\n",
              "      <th>Online support</th>\n",
              "      <th>Ease of Online booking</th>\n",
              "      <th>On-board service</th>\n",
              "      <th>Leg room service</th>\n",
              "      <th>Baggage handling</th>\n",
              "      <th>Checkin service</th>\n",
              "      <th>Cleanliness</th>\n",
              "      <th>Online boarding</th>\n",
              "      <th>Departure Delay in Minutes</th>\n",
              "      <th>Arrival Delay in Minutes</th>\n",
              "    </tr>\n",
              "  </thead>\n",
              "  <tbody>\n",
              "    <tr>\n",
              "      <th>0</th>\n",
              "      <td>satisfied</td>\n",
              "      <td>Female</td>\n",
              "      <td>Loyal Customer</td>\n",
              "      <td>65</td>\n",
              "      <td>Personal Travel</td>\n",
              "      <td>Eco</td>\n",
              "      <td>265</td>\n",
              "      <td>0</td>\n",
              "      <td>0</td>\n",
              "      <td>0</td>\n",
              "      <td>...</td>\n",
              "      <td>2</td>\n",
              "      <td>3</td>\n",
              "      <td>3</td>\n",
              "      <td>0</td>\n",
              "      <td>3</td>\n",
              "      <td>5</td>\n",
              "      <td>3</td>\n",
              "      <td>2</td>\n",
              "      <td>0</td>\n",
              "      <td>0.0</td>\n",
              "    </tr>\n",
              "    <tr>\n",
              "      <th>1</th>\n",
              "      <td>satisfied</td>\n",
              "      <td>Male</td>\n",
              "      <td>Loyal Customer</td>\n",
              "      <td>47</td>\n",
              "      <td>Personal Travel</td>\n",
              "      <td>Business</td>\n",
              "      <td>2464</td>\n",
              "      <td>0</td>\n",
              "      <td>0</td>\n",
              "      <td>0</td>\n",
              "      <td>...</td>\n",
              "      <td>2</td>\n",
              "      <td>3</td>\n",
              "      <td>4</td>\n",
              "      <td>4</td>\n",
              "      <td>4</td>\n",
              "      <td>2</td>\n",
              "      <td>3</td>\n",
              "      <td>2</td>\n",
              "      <td>310</td>\n",
              "      <td>305.0</td>\n",
              "    </tr>\n",
              "    <tr>\n",
              "      <th>2</th>\n",
              "      <td>satisfied</td>\n",
              "      <td>Female</td>\n",
              "      <td>Loyal Customer</td>\n",
              "      <td>15</td>\n",
              "      <td>Personal Travel</td>\n",
              "      <td>Eco</td>\n",
              "      <td>2138</td>\n",
              "      <td>0</td>\n",
              "      <td>0</td>\n",
              "      <td>0</td>\n",
              "      <td>...</td>\n",
              "      <td>2</td>\n",
              "      <td>2</td>\n",
              "      <td>3</td>\n",
              "      <td>3</td>\n",
              "      <td>4</td>\n",
              "      <td>4</td>\n",
              "      <td>4</td>\n",
              "      <td>2</td>\n",
              "      <td>0</td>\n",
              "      <td>0.0</td>\n",
              "    </tr>\n",
              "    <tr>\n",
              "      <th>3</th>\n",
              "      <td>satisfied</td>\n",
              "      <td>Female</td>\n",
              "      <td>Loyal Customer</td>\n",
              "      <td>60</td>\n",
              "      <td>Personal Travel</td>\n",
              "      <td>Eco</td>\n",
              "      <td>623</td>\n",
              "      <td>0</td>\n",
              "      <td>0</td>\n",
              "      <td>0</td>\n",
              "      <td>...</td>\n",
              "      <td>3</td>\n",
              "      <td>1</td>\n",
              "      <td>1</td>\n",
              "      <td>0</td>\n",
              "      <td>1</td>\n",
              "      <td>4</td>\n",
              "      <td>1</td>\n",
              "      <td>3</td>\n",
              "      <td>0</td>\n",
              "      <td>0.0</td>\n",
              "    </tr>\n",
              "    <tr>\n",
              "      <th>4</th>\n",
              "      <td>satisfied</td>\n",
              "      <td>Female</td>\n",
              "      <td>Loyal Customer</td>\n",
              "      <td>70</td>\n",
              "      <td>Personal Travel</td>\n",
              "      <td>Eco</td>\n",
              "      <td>354</td>\n",
              "      <td>0</td>\n",
              "      <td>0</td>\n",
              "      <td>0</td>\n",
              "      <td>...</td>\n",
              "      <td>4</td>\n",
              "      <td>2</td>\n",
              "      <td>2</td>\n",
              "      <td>0</td>\n",
              "      <td>2</td>\n",
              "      <td>4</td>\n",
              "      <td>2</td>\n",
              "      <td>5</td>\n",
              "      <td>0</td>\n",
              "      <td>0.0</td>\n",
              "    </tr>\n",
              "    <tr>\n",
              "      <th>...</th>\n",
              "      <td>...</td>\n",
              "      <td>...</td>\n",
              "      <td>...</td>\n",
              "      <td>...</td>\n",
              "      <td>...</td>\n",
              "      <td>...</td>\n",
              "      <td>...</td>\n",
              "      <td>...</td>\n",
              "      <td>...</td>\n",
              "      <td>...</td>\n",
              "      <td>...</td>\n",
              "      <td>...</td>\n",
              "      <td>...</td>\n",
              "      <td>...</td>\n",
              "      <td>...</td>\n",
              "      <td>...</td>\n",
              "      <td>...</td>\n",
              "      <td>...</td>\n",
              "      <td>...</td>\n",
              "      <td>...</td>\n",
              "      <td>...</td>\n",
              "    </tr>\n",
              "    <tr>\n",
              "      <th>129875</th>\n",
              "      <td>satisfied</td>\n",
              "      <td>Female</td>\n",
              "      <td>disloyal Customer</td>\n",
              "      <td>29</td>\n",
              "      <td>Personal Travel</td>\n",
              "      <td>Eco</td>\n",
              "      <td>1731</td>\n",
              "      <td>5</td>\n",
              "      <td>5</td>\n",
              "      <td>5</td>\n",
              "      <td>...</td>\n",
              "      <td>2</td>\n",
              "      <td>2</td>\n",
              "      <td>3</td>\n",
              "      <td>3</td>\n",
              "      <td>4</td>\n",
              "      <td>4</td>\n",
              "      <td>4</td>\n",
              "      <td>2</td>\n",
              "      <td>0</td>\n",
              "      <td>0.0</td>\n",
              "    </tr>\n",
              "    <tr>\n",
              "      <th>129876</th>\n",
              "      <td>dissatisfied</td>\n",
              "      <td>Male</td>\n",
              "      <td>disloyal Customer</td>\n",
              "      <td>63</td>\n",
              "      <td>Personal Travel</td>\n",
              "      <td>Business</td>\n",
              "      <td>2087</td>\n",
              "      <td>2</td>\n",
              "      <td>3</td>\n",
              "      <td>2</td>\n",
              "      <td>...</td>\n",
              "      <td>1</td>\n",
              "      <td>3</td>\n",
              "      <td>2</td>\n",
              "      <td>3</td>\n",
              "      <td>3</td>\n",
              "      <td>1</td>\n",
              "      <td>2</td>\n",
              "      <td>1</td>\n",
              "      <td>174</td>\n",
              "      <td>172.0</td>\n",
              "    </tr>\n",
              "    <tr>\n",
              "      <th>129877</th>\n",
              "      <td>dissatisfied</td>\n",
              "      <td>Male</td>\n",
              "      <td>disloyal Customer</td>\n",
              "      <td>69</td>\n",
              "      <td>Personal Travel</td>\n",
              "      <td>Eco</td>\n",
              "      <td>2320</td>\n",
              "      <td>3</td>\n",
              "      <td>0</td>\n",
              "      <td>3</td>\n",
              "      <td>...</td>\n",
              "      <td>2</td>\n",
              "      <td>4</td>\n",
              "      <td>4</td>\n",
              "      <td>3</td>\n",
              "      <td>4</td>\n",
              "      <td>2</td>\n",
              "      <td>3</td>\n",
              "      <td>2</td>\n",
              "      <td>155</td>\n",
              "      <td>163.0</td>\n",
              "    </tr>\n",
              "    <tr>\n",
              "      <th>129878</th>\n",
              "      <td>dissatisfied</td>\n",
              "      <td>Male</td>\n",
              "      <td>disloyal Customer</td>\n",
              "      <td>66</td>\n",
              "      <td>Personal Travel</td>\n",
              "      <td>Eco</td>\n",
              "      <td>2450</td>\n",
              "      <td>3</td>\n",
              "      <td>2</td>\n",
              "      <td>3</td>\n",
              "      <td>...</td>\n",
              "      <td>2</td>\n",
              "      <td>3</td>\n",
              "      <td>3</td>\n",
              "      <td>2</td>\n",
              "      <td>3</td>\n",
              "      <td>2</td>\n",
              "      <td>1</td>\n",
              "      <td>2</td>\n",
              "      <td>193</td>\n",
              "      <td>205.0</td>\n",
              "    </tr>\n",
              "    <tr>\n",
              "      <th>129879</th>\n",
              "      <td>dissatisfied</td>\n",
              "      <td>Female</td>\n",
              "      <td>disloyal Customer</td>\n",
              "      <td>38</td>\n",
              "      <td>Personal Travel</td>\n",
              "      <td>Eco</td>\n",
              "      <td>4307</td>\n",
              "      <td>3</td>\n",
              "      <td>4</td>\n",
              "      <td>3</td>\n",
              "      <td>...</td>\n",
              "      <td>3</td>\n",
              "      <td>4</td>\n",
              "      <td>5</td>\n",
              "      <td>5</td>\n",
              "      <td>5</td>\n",
              "      <td>3</td>\n",
              "      <td>3</td>\n",
              "      <td>3</td>\n",
              "      <td>185</td>\n",
              "      <td>186.0</td>\n",
              "    </tr>\n",
              "  </tbody>\n",
              "</table>\n",
              "<p>129880 rows × 23 columns</p>\n",
              "</div>"
            ],
            "text/plain": [
              "        satisfaction  Gender      Customer Type  Age   Type of Travel  \\\n",
              "0          satisfied  Female     Loyal Customer   65  Personal Travel   \n",
              "1          satisfied    Male     Loyal Customer   47  Personal Travel   \n",
              "2          satisfied  Female     Loyal Customer   15  Personal Travel   \n",
              "3          satisfied  Female     Loyal Customer   60  Personal Travel   \n",
              "4          satisfied  Female     Loyal Customer   70  Personal Travel   \n",
              "...              ...     ...                ...  ...              ...   \n",
              "129875     satisfied  Female  disloyal Customer   29  Personal Travel   \n",
              "129876  dissatisfied    Male  disloyal Customer   63  Personal Travel   \n",
              "129877  dissatisfied    Male  disloyal Customer   69  Personal Travel   \n",
              "129878  dissatisfied    Male  disloyal Customer   66  Personal Travel   \n",
              "129879  dissatisfied  Female  disloyal Customer   38  Personal Travel   \n",
              "\n",
              "           Class  Flight Distance  Seat comfort  \\\n",
              "0            Eco              265             0   \n",
              "1       Business             2464             0   \n",
              "2            Eco             2138             0   \n",
              "3            Eco              623             0   \n",
              "4            Eco              354             0   \n",
              "...          ...              ...           ...   \n",
              "129875       Eco             1731             5   \n",
              "129876  Business             2087             2   \n",
              "129877       Eco             2320             3   \n",
              "129878       Eco             2450             3   \n",
              "129879       Eco             4307             3   \n",
              "\n",
              "        Departure/Arrival time convenient  Food and drink  ...  \\\n",
              "0                                       0               0  ...   \n",
              "1                                       0               0  ...   \n",
              "2                                       0               0  ...   \n",
              "3                                       0               0  ...   \n",
              "4                                       0               0  ...   \n",
              "...                                   ...             ...  ...   \n",
              "129875                                  5               5  ...   \n",
              "129876                                  3               2  ...   \n",
              "129877                                  0               3  ...   \n",
              "129878                                  2               3  ...   \n",
              "129879                                  4               3  ...   \n",
              "\n",
              "        Online support  Ease of Online booking  On-board service  \\\n",
              "0                    2                       3                 3   \n",
              "1                    2                       3                 4   \n",
              "2                    2                       2                 3   \n",
              "3                    3                       1                 1   \n",
              "4                    4                       2                 2   \n",
              "...                ...                     ...               ...   \n",
              "129875               2                       2                 3   \n",
              "129876               1                       3                 2   \n",
              "129877               2                       4                 4   \n",
              "129878               2                       3                 3   \n",
              "129879               3                       4                 5   \n",
              "\n",
              "        Leg room service  Baggage handling  Checkin service  Cleanliness  \\\n",
              "0                      0                 3                5            3   \n",
              "1                      4                 4                2            3   \n",
              "2                      3                 4                4            4   \n",
              "3                      0                 1                4            1   \n",
              "4                      0                 2                4            2   \n",
              "...                  ...               ...              ...          ...   \n",
              "129875                 3                 4                4            4   \n",
              "129876                 3                 3                1            2   \n",
              "129877                 3                 4                2            3   \n",
              "129878                 2                 3                2            1   \n",
              "129879                 5                 5                3            3   \n",
              "\n",
              "        Online boarding  Departure Delay in Minutes  Arrival Delay in Minutes  \n",
              "0                     2                           0                       0.0  \n",
              "1                     2                         310                     305.0  \n",
              "2                     2                           0                       0.0  \n",
              "3                     3                           0                       0.0  \n",
              "4                     5                           0                       0.0  \n",
              "...                 ...                         ...                       ...  \n",
              "129875                2                           0                       0.0  \n",
              "129876                1                         174                     172.0  \n",
              "129877                2                         155                     163.0  \n",
              "129878                2                         193                     205.0  \n",
              "129879                3                         185                     186.0  \n",
              "\n",
              "[129880 rows x 23 columns]"
            ]
          },
          "execution_count": 4,
          "metadata": {},
          "output_type": "execute_result"
        }
      ],
      "source": [
        "df"
      ]
    },
    {
      "cell_type": "code",
      "execution_count": null,
      "id": "6328dd5d",
      "metadata": {
        "id": "6328dd5d",
        "outputId": "e588c240-e915-4dc1-93a3-412885a835bb"
      },
      "outputs": [
        {
          "data": {
            "text/plain": [
              "satisfaction                          object\n",
              "Gender                                object\n",
              "Customer Type                         object\n",
              "Age                                    int64\n",
              "Type of Travel                        object\n",
              "Class                                 object\n",
              "Flight Distance                        int64\n",
              "Seat comfort                           int64\n",
              "Departure/Arrival time convenient      int64\n",
              "Food and drink                         int64\n",
              "Gate location                          int64\n",
              "Inflight wifi service                  int64\n",
              "Inflight entertainment                 int64\n",
              "Online support                         int64\n",
              "Ease of Online booking                 int64\n",
              "On-board service                       int64\n",
              "Leg room service                       int64\n",
              "Baggage handling                       int64\n",
              "Checkin service                        int64\n",
              "Cleanliness                            int64\n",
              "Online boarding                        int64\n",
              "Departure Delay in Minutes             int64\n",
              "Arrival Delay in Minutes             float64\n",
              "dtype: object"
            ]
          },
          "execution_count": 5,
          "metadata": {},
          "output_type": "execute_result"
        }
      ],
      "source": [
        "df.dtypes"
      ]
    },
    {
      "cell_type": "code",
      "execution_count": null,
      "id": "ac10757f",
      "metadata": {
        "id": "ac10757f",
        "outputId": "437dbc68-8bf6-4a98-8dd9-58ad80fd2125"
      },
      "outputs": [
        {
          "data": {
            "text/html": [
              "<div>\n",
              "<style scoped>\n",
              "    .dataframe tbody tr th:only-of-type {\n",
              "        vertical-align: middle;\n",
              "    }\n",
              "\n",
              "    .dataframe tbody tr th {\n",
              "        vertical-align: top;\n",
              "    }\n",
              "\n",
              "    .dataframe thead th {\n",
              "        text-align: right;\n",
              "    }\n",
              "</style>\n",
              "<table border=\"1\" class=\"dataframe\">\n",
              "  <thead>\n",
              "    <tr style=\"text-align: right;\">\n",
              "      <th></th>\n",
              "      <th>satisfaction</th>\n",
              "      <th>Gender</th>\n",
              "      <th>Customer Type</th>\n",
              "      <th>Age</th>\n",
              "      <th>Type of Travel</th>\n",
              "      <th>Class</th>\n",
              "      <th>Flight Distance</th>\n",
              "      <th>Seat comfort</th>\n",
              "      <th>Departure/Arrival time convenient</th>\n",
              "      <th>Food and drink</th>\n",
              "      <th>...</th>\n",
              "      <th>Online support</th>\n",
              "      <th>Ease of Online booking</th>\n",
              "      <th>On-board service</th>\n",
              "      <th>Leg room service</th>\n",
              "      <th>Baggage handling</th>\n",
              "      <th>Checkin service</th>\n",
              "      <th>Cleanliness</th>\n",
              "      <th>Online boarding</th>\n",
              "      <th>Departure Delay in Minutes</th>\n",
              "      <th>Arrival Delay in Minutes</th>\n",
              "    </tr>\n",
              "  </thead>\n",
              "  <tbody>\n",
              "    <tr>\n",
              "      <th>count</th>\n",
              "      <td>129880</td>\n",
              "      <td>129880</td>\n",
              "      <td>129880</td>\n",
              "      <td>129880.000000</td>\n",
              "      <td>129880</td>\n",
              "      <td>129880</td>\n",
              "      <td>129880.000000</td>\n",
              "      <td>129880.000000</td>\n",
              "      <td>129880.000000</td>\n",
              "      <td>129880.000000</td>\n",
              "      <td>...</td>\n",
              "      <td>129880.000000</td>\n",
              "      <td>129880.000000</td>\n",
              "      <td>129880.000000</td>\n",
              "      <td>129880.000000</td>\n",
              "      <td>129880.000000</td>\n",
              "      <td>129880.000000</td>\n",
              "      <td>129880.000000</td>\n",
              "      <td>129880.000000</td>\n",
              "      <td>129880.000000</td>\n",
              "      <td>129487.000000</td>\n",
              "    </tr>\n",
              "    <tr>\n",
              "      <th>unique</th>\n",
              "      <td>2</td>\n",
              "      <td>2</td>\n",
              "      <td>2</td>\n",
              "      <td>NaN</td>\n",
              "      <td>2</td>\n",
              "      <td>3</td>\n",
              "      <td>NaN</td>\n",
              "      <td>NaN</td>\n",
              "      <td>NaN</td>\n",
              "      <td>NaN</td>\n",
              "      <td>...</td>\n",
              "      <td>NaN</td>\n",
              "      <td>NaN</td>\n",
              "      <td>NaN</td>\n",
              "      <td>NaN</td>\n",
              "      <td>NaN</td>\n",
              "      <td>NaN</td>\n",
              "      <td>NaN</td>\n",
              "      <td>NaN</td>\n",
              "      <td>NaN</td>\n",
              "      <td>NaN</td>\n",
              "    </tr>\n",
              "    <tr>\n",
              "      <th>top</th>\n",
              "      <td>satisfied</td>\n",
              "      <td>Female</td>\n",
              "      <td>Loyal Customer</td>\n",
              "      <td>NaN</td>\n",
              "      <td>Business travel</td>\n",
              "      <td>Business</td>\n",
              "      <td>NaN</td>\n",
              "      <td>NaN</td>\n",
              "      <td>NaN</td>\n",
              "      <td>NaN</td>\n",
              "      <td>...</td>\n",
              "      <td>NaN</td>\n",
              "      <td>NaN</td>\n",
              "      <td>NaN</td>\n",
              "      <td>NaN</td>\n",
              "      <td>NaN</td>\n",
              "      <td>NaN</td>\n",
              "      <td>NaN</td>\n",
              "      <td>NaN</td>\n",
              "      <td>NaN</td>\n",
              "      <td>NaN</td>\n",
              "    </tr>\n",
              "    <tr>\n",
              "      <th>freq</th>\n",
              "      <td>71087</td>\n",
              "      <td>65899</td>\n",
              "      <td>106100</td>\n",
              "      <td>NaN</td>\n",
              "      <td>89693</td>\n",
              "      <td>62160</td>\n",
              "      <td>NaN</td>\n",
              "      <td>NaN</td>\n",
              "      <td>NaN</td>\n",
              "      <td>NaN</td>\n",
              "      <td>...</td>\n",
              "      <td>NaN</td>\n",
              "      <td>NaN</td>\n",
              "      <td>NaN</td>\n",
              "      <td>NaN</td>\n",
              "      <td>NaN</td>\n",
              "      <td>NaN</td>\n",
              "      <td>NaN</td>\n",
              "      <td>NaN</td>\n",
              "      <td>NaN</td>\n",
              "      <td>NaN</td>\n",
              "    </tr>\n",
              "    <tr>\n",
              "      <th>mean</th>\n",
              "      <td>NaN</td>\n",
              "      <td>NaN</td>\n",
              "      <td>NaN</td>\n",
              "      <td>39.427957</td>\n",
              "      <td>NaN</td>\n",
              "      <td>NaN</td>\n",
              "      <td>1981.409055</td>\n",
              "      <td>2.838597</td>\n",
              "      <td>2.990645</td>\n",
              "      <td>2.851994</td>\n",
              "      <td>...</td>\n",
              "      <td>3.519703</td>\n",
              "      <td>3.472105</td>\n",
              "      <td>3.465075</td>\n",
              "      <td>3.485902</td>\n",
              "      <td>3.695673</td>\n",
              "      <td>3.340807</td>\n",
              "      <td>3.705759</td>\n",
              "      <td>3.352587</td>\n",
              "      <td>14.713713</td>\n",
              "      <td>15.091129</td>\n",
              "    </tr>\n",
              "    <tr>\n",
              "      <th>std</th>\n",
              "      <td>NaN</td>\n",
              "      <td>NaN</td>\n",
              "      <td>NaN</td>\n",
              "      <td>15.119360</td>\n",
              "      <td>NaN</td>\n",
              "      <td>NaN</td>\n",
              "      <td>1027.115606</td>\n",
              "      <td>1.392983</td>\n",
              "      <td>1.527224</td>\n",
              "      <td>1.443729</td>\n",
              "      <td>...</td>\n",
              "      <td>1.306511</td>\n",
              "      <td>1.305560</td>\n",
              "      <td>1.270836</td>\n",
              "      <td>1.292226</td>\n",
              "      <td>1.156483</td>\n",
              "      <td>1.260582</td>\n",
              "      <td>1.151774</td>\n",
              "      <td>1.298715</td>\n",
              "      <td>38.071126</td>\n",
              "      <td>38.465650</td>\n",
              "    </tr>\n",
              "    <tr>\n",
              "      <th>min</th>\n",
              "      <td>NaN</td>\n",
              "      <td>NaN</td>\n",
              "      <td>NaN</td>\n",
              "      <td>7.000000</td>\n",
              "      <td>NaN</td>\n",
              "      <td>NaN</td>\n",
              "      <td>50.000000</td>\n",
              "      <td>0.000000</td>\n",
              "      <td>0.000000</td>\n",
              "      <td>0.000000</td>\n",
              "      <td>...</td>\n",
              "      <td>0.000000</td>\n",
              "      <td>0.000000</td>\n",
              "      <td>0.000000</td>\n",
              "      <td>0.000000</td>\n",
              "      <td>1.000000</td>\n",
              "      <td>0.000000</td>\n",
              "      <td>0.000000</td>\n",
              "      <td>0.000000</td>\n",
              "      <td>0.000000</td>\n",
              "      <td>0.000000</td>\n",
              "    </tr>\n",
              "    <tr>\n",
              "      <th>25%</th>\n",
              "      <td>NaN</td>\n",
              "      <td>NaN</td>\n",
              "      <td>NaN</td>\n",
              "      <td>27.000000</td>\n",
              "      <td>NaN</td>\n",
              "      <td>NaN</td>\n",
              "      <td>1359.000000</td>\n",
              "      <td>2.000000</td>\n",
              "      <td>2.000000</td>\n",
              "      <td>2.000000</td>\n",
              "      <td>...</td>\n",
              "      <td>3.000000</td>\n",
              "      <td>2.000000</td>\n",
              "      <td>3.000000</td>\n",
              "      <td>2.000000</td>\n",
              "      <td>3.000000</td>\n",
              "      <td>3.000000</td>\n",
              "      <td>3.000000</td>\n",
              "      <td>2.000000</td>\n",
              "      <td>0.000000</td>\n",
              "      <td>0.000000</td>\n",
              "    </tr>\n",
              "    <tr>\n",
              "      <th>50%</th>\n",
              "      <td>NaN</td>\n",
              "      <td>NaN</td>\n",
              "      <td>NaN</td>\n",
              "      <td>40.000000</td>\n",
              "      <td>NaN</td>\n",
              "      <td>NaN</td>\n",
              "      <td>1925.000000</td>\n",
              "      <td>3.000000</td>\n",
              "      <td>3.000000</td>\n",
              "      <td>3.000000</td>\n",
              "      <td>...</td>\n",
              "      <td>4.000000</td>\n",
              "      <td>4.000000</td>\n",
              "      <td>4.000000</td>\n",
              "      <td>4.000000</td>\n",
              "      <td>4.000000</td>\n",
              "      <td>3.000000</td>\n",
              "      <td>4.000000</td>\n",
              "      <td>4.000000</td>\n",
              "      <td>0.000000</td>\n",
              "      <td>0.000000</td>\n",
              "    </tr>\n",
              "    <tr>\n",
              "      <th>75%</th>\n",
              "      <td>NaN</td>\n",
              "      <td>NaN</td>\n",
              "      <td>NaN</td>\n",
              "      <td>51.000000</td>\n",
              "      <td>NaN</td>\n",
              "      <td>NaN</td>\n",
              "      <td>2544.000000</td>\n",
              "      <td>4.000000</td>\n",
              "      <td>4.000000</td>\n",
              "      <td>4.000000</td>\n",
              "      <td>...</td>\n",
              "      <td>5.000000</td>\n",
              "      <td>5.000000</td>\n",
              "      <td>4.000000</td>\n",
              "      <td>5.000000</td>\n",
              "      <td>5.000000</td>\n",
              "      <td>4.000000</td>\n",
              "      <td>5.000000</td>\n",
              "      <td>4.000000</td>\n",
              "      <td>12.000000</td>\n",
              "      <td>13.000000</td>\n",
              "    </tr>\n",
              "    <tr>\n",
              "      <th>max</th>\n",
              "      <td>NaN</td>\n",
              "      <td>NaN</td>\n",
              "      <td>NaN</td>\n",
              "      <td>85.000000</td>\n",
              "      <td>NaN</td>\n",
              "      <td>NaN</td>\n",
              "      <td>6951.000000</td>\n",
              "      <td>5.000000</td>\n",
              "      <td>5.000000</td>\n",
              "      <td>5.000000</td>\n",
              "      <td>...</td>\n",
              "      <td>5.000000</td>\n",
              "      <td>5.000000</td>\n",
              "      <td>5.000000</td>\n",
              "      <td>5.000000</td>\n",
              "      <td>5.000000</td>\n",
              "      <td>5.000000</td>\n",
              "      <td>5.000000</td>\n",
              "      <td>5.000000</td>\n",
              "      <td>1592.000000</td>\n",
              "      <td>1584.000000</td>\n",
              "    </tr>\n",
              "  </tbody>\n",
              "</table>\n",
              "<p>11 rows × 23 columns</p>\n",
              "</div>"
            ],
            "text/plain": [
              "       satisfaction  Gender   Customer Type            Age   Type of Travel  \\\n",
              "count        129880  129880          129880  129880.000000           129880   \n",
              "unique            2       2               2            NaN                2   \n",
              "top       satisfied  Female  Loyal Customer            NaN  Business travel   \n",
              "freq          71087   65899          106100            NaN            89693   \n",
              "mean            NaN     NaN             NaN      39.427957              NaN   \n",
              "std             NaN     NaN             NaN      15.119360              NaN   \n",
              "min             NaN     NaN             NaN       7.000000              NaN   \n",
              "25%             NaN     NaN             NaN      27.000000              NaN   \n",
              "50%             NaN     NaN             NaN      40.000000              NaN   \n",
              "75%             NaN     NaN             NaN      51.000000              NaN   \n",
              "max             NaN     NaN             NaN      85.000000              NaN   \n",
              "\n",
              "           Class  Flight Distance   Seat comfort  \\\n",
              "count     129880    129880.000000  129880.000000   \n",
              "unique         3              NaN            NaN   \n",
              "top     Business              NaN            NaN   \n",
              "freq       62160              NaN            NaN   \n",
              "mean         NaN      1981.409055       2.838597   \n",
              "std          NaN      1027.115606       1.392983   \n",
              "min          NaN        50.000000       0.000000   \n",
              "25%          NaN      1359.000000       2.000000   \n",
              "50%          NaN      1925.000000       3.000000   \n",
              "75%          NaN      2544.000000       4.000000   \n",
              "max          NaN      6951.000000       5.000000   \n",
              "\n",
              "        Departure/Arrival time convenient  Food and drink  ...  \\\n",
              "count                       129880.000000   129880.000000  ...   \n",
              "unique                                NaN             NaN  ...   \n",
              "top                                   NaN             NaN  ...   \n",
              "freq                                  NaN             NaN  ...   \n",
              "mean                             2.990645        2.851994  ...   \n",
              "std                              1.527224        1.443729  ...   \n",
              "min                              0.000000        0.000000  ...   \n",
              "25%                              2.000000        2.000000  ...   \n",
              "50%                              3.000000        3.000000  ...   \n",
              "75%                              4.000000        4.000000  ...   \n",
              "max                              5.000000        5.000000  ...   \n",
              "\n",
              "        Online support  Ease of Online booking  On-board service  \\\n",
              "count    129880.000000           129880.000000     129880.000000   \n",
              "unique             NaN                     NaN               NaN   \n",
              "top                NaN                     NaN               NaN   \n",
              "freq               NaN                     NaN               NaN   \n",
              "mean          3.519703                3.472105          3.465075   \n",
              "std           1.306511                1.305560          1.270836   \n",
              "min           0.000000                0.000000          0.000000   \n",
              "25%           3.000000                2.000000          3.000000   \n",
              "50%           4.000000                4.000000          4.000000   \n",
              "75%           5.000000                5.000000          4.000000   \n",
              "max           5.000000                5.000000          5.000000   \n",
              "\n",
              "        Leg room service  Baggage handling  Checkin service    Cleanliness  \\\n",
              "count      129880.000000     129880.000000    129880.000000  129880.000000   \n",
              "unique               NaN               NaN              NaN            NaN   \n",
              "top                  NaN               NaN              NaN            NaN   \n",
              "freq                 NaN               NaN              NaN            NaN   \n",
              "mean            3.485902          3.695673         3.340807       3.705759   \n",
              "std             1.292226          1.156483         1.260582       1.151774   \n",
              "min             0.000000          1.000000         0.000000       0.000000   \n",
              "25%             2.000000          3.000000         3.000000       3.000000   \n",
              "50%             4.000000          4.000000         3.000000       4.000000   \n",
              "75%             5.000000          5.000000         4.000000       5.000000   \n",
              "max             5.000000          5.000000         5.000000       5.000000   \n",
              "\n",
              "        Online boarding  Departure Delay in Minutes  Arrival Delay in Minutes  \n",
              "count     129880.000000               129880.000000             129487.000000  \n",
              "unique              NaN                         NaN                       NaN  \n",
              "top                 NaN                         NaN                       NaN  \n",
              "freq                NaN                         NaN                       NaN  \n",
              "mean           3.352587                   14.713713                 15.091129  \n",
              "std            1.298715                   38.071126                 38.465650  \n",
              "min            0.000000                    0.000000                  0.000000  \n",
              "25%            2.000000                    0.000000                  0.000000  \n",
              "50%            4.000000                    0.000000                  0.000000  \n",
              "75%            4.000000                   12.000000                 13.000000  \n",
              "max            5.000000                 1592.000000               1584.000000  \n",
              "\n",
              "[11 rows x 23 columns]"
            ]
          },
          "execution_count": 6,
          "metadata": {},
          "output_type": "execute_result"
        }
      ],
      "source": [
        "# Detecter les NaN\n",
        "df.describe(include=\"all\")"
      ]
    },
    {
      "cell_type": "code",
      "execution_count": null,
      "id": "684abd4e",
      "metadata": {
        "id": "684abd4e"
      },
      "outputs": [],
      "source": [
        "# éliminer les espaces\n",
        "df=df.replace('', np.NaN)"
      ]
    },
    {
      "cell_type": "code",
      "execution_count": null,
      "id": "d629fdd5",
      "metadata": {
        "id": "d629fdd5",
        "outputId": "ac5d3c07-0a09-4c95-bb12-7b57cfe7d083"
      },
      "outputs": [
        {
          "data": {
            "text/plain": [
              "satisfaction                           0\n",
              "Gender                                 0\n",
              "Customer Type                          0\n",
              "Age                                    0\n",
              "Type of Travel                         0\n",
              "Class                                  0\n",
              "Flight Distance                        0\n",
              "Seat comfort                           0\n",
              "Departure/Arrival time convenient      0\n",
              "Food and drink                         0\n",
              "Gate location                          0\n",
              "Inflight wifi service                  0\n",
              "Inflight entertainment                 0\n",
              "Online support                         0\n",
              "Ease of Online booking                 0\n",
              "On-board service                       0\n",
              "Leg room service                       0\n",
              "Baggage handling                       0\n",
              "Checkin service                        0\n",
              "Cleanliness                            0\n",
              "Online boarding                        0\n",
              "Departure Delay in Minutes             0\n",
              "Arrival Delay in Minutes             393\n",
              "dtype: int64"
            ]
          },
          "execution_count": 8,
          "metadata": {},
          "output_type": "execute_result"
        }
      ],
      "source": [
        "# La somme des NaN\n",
        "df.isna().sum()"
      ]
    },
    {
      "cell_type": "code",
      "execution_count": null,
      "id": "3c46b9f1",
      "metadata": {
        "id": "3c46b9f1"
      },
      "outputs": [],
      "source": [
        "# Supprimer les NaN\n",
        "df=df.dropna(how=\"any\")"
      ]
    },
    {
      "cell_type": "code",
      "execution_count": null,
      "id": "77aa1d8e",
      "metadata": {
        "id": "77aa1d8e",
        "outputId": "87beae0c-fd1e-4409-b918-5fcde285138c"
      },
      "outputs": [
        {
          "data": {
            "text/plain": [
              "satisfaction                         0\n",
              "Gender                               0\n",
              "Customer Type                        0\n",
              "Age                                  0\n",
              "Type of Travel                       0\n",
              "Class                                0\n",
              "Flight Distance                      0\n",
              "Seat comfort                         0\n",
              "Departure/Arrival time convenient    0\n",
              "Food and drink                       0\n",
              "Gate location                        0\n",
              "Inflight wifi service                0\n",
              "Inflight entertainment               0\n",
              "Online support                       0\n",
              "Ease of Online booking               0\n",
              "On-board service                     0\n",
              "Leg room service                     0\n",
              "Baggage handling                     0\n",
              "Checkin service                      0\n",
              "Cleanliness                          0\n",
              "Online boarding                      0\n",
              "Departure Delay in Minutes           0\n",
              "Arrival Delay in Minutes             0\n",
              "dtype: int64"
            ]
          },
          "execution_count": 10,
          "metadata": {},
          "output_type": "execute_result"
        }
      ],
      "source": [
        "df.isna().sum()"
      ]
    },
    {
      "cell_type": "code",
      "execution_count": null,
      "id": "ccb10be5",
      "metadata": {
        "id": "ccb10be5",
        "outputId": "67a6b4d1-9a04-4dcd-b0f0-5659d181e364"
      },
      "outputs": [
        {
          "data": {
            "text/plain": [
              "(129487, 23)"
            ]
          },
          "execution_count": 11,
          "metadata": {},
          "output_type": "execute_result"
        }
      ],
      "source": [
        "df.shape"
      ]
    },
    {
      "cell_type": "code",
      "execution_count": null,
      "id": "28346e59",
      "metadata": {
        "id": "28346e59",
        "outputId": "4e439bc2-4161-4892-fe55-65a2160cb447"
      },
      "outputs": [
        {
          "data": {
            "text/html": [
              "<div>\n",
              "<style scoped>\n",
              "    .dataframe tbody tr th:only-of-type {\n",
              "        vertical-align: middle;\n",
              "    }\n",
              "\n",
              "    .dataframe tbody tr th {\n",
              "        vertical-align: top;\n",
              "    }\n",
              "\n",
              "    .dataframe thead th {\n",
              "        text-align: right;\n",
              "    }\n",
              "</style>\n",
              "<table border=\"1\" class=\"dataframe\">\n",
              "  <thead>\n",
              "    <tr style=\"text-align: right;\">\n",
              "      <th></th>\n",
              "      <th>satisfaction</th>\n",
              "      <th>Gender</th>\n",
              "      <th>Customer Type</th>\n",
              "      <th>Age</th>\n",
              "      <th>Type of Travel</th>\n",
              "      <th>Class</th>\n",
              "      <th>Flight Distance</th>\n",
              "      <th>Seat comfort</th>\n",
              "      <th>Departure/Arrival time convenient</th>\n",
              "      <th>Food and drink</th>\n",
              "      <th>...</th>\n",
              "      <th>Online support</th>\n",
              "      <th>Ease of Online booking</th>\n",
              "      <th>On-board service</th>\n",
              "      <th>Leg room service</th>\n",
              "      <th>Baggage handling</th>\n",
              "      <th>Checkin service</th>\n",
              "      <th>Cleanliness</th>\n",
              "      <th>Online boarding</th>\n",
              "      <th>Departure Delay in Minutes</th>\n",
              "      <th>Arrival Delay in Minutes</th>\n",
              "    </tr>\n",
              "  </thead>\n",
              "  <tbody>\n",
              "  </tbody>\n",
              "</table>\n",
              "<p>0 rows × 23 columns</p>\n",
              "</div>"
            ],
            "text/plain": [
              "Empty DataFrame\n",
              "Columns: [satisfaction, Gender, Customer Type, Age, Type of Travel, Class, Flight Distance, Seat comfort, Departure/Arrival time convenient, Food and drink, Gate location, Inflight wifi service, Inflight entertainment, Online support, Ease of Online booking, On-board service, Leg room service, Baggage handling, Checkin service, Cleanliness, Online boarding, Departure Delay in Minutes, Arrival Delay in Minutes]\n",
              "Index: []\n",
              "\n",
              "[0 rows x 23 columns]"
            ]
          },
          "execution_count": 12,
          "metadata": {},
          "output_type": "execute_result"
        }
      ],
      "source": [
        "# Detecter les duplicatios\n",
        "df[df.duplicated ()]"
      ]
    },
    {
      "cell_type": "code",
      "execution_count": null,
      "id": "9307f2f1",
      "metadata": {
        "id": "9307f2f1"
      },
      "outputs": [],
      "source": [
        "# Encodage binaire\n",
        "df['Gender'] = df['Gender'].replace({\n",
        "        'Female': 0,\n",
        "        'Male': 1})\n",
        "df['Customer Type'] = df['Customer Type'].replace({\n",
        "        'disloyal Customer': 0,\n",
        "        'Loyal Customer': 1})\n",
        "df['Type of Travel'] = df['Type of Travel'].replace({\n",
        "        'Personal Travel': 0,\n",
        "        'Business travel': 1})\n",
        "df['satisfaction'] = df['satisfaction'].replace({\n",
        "        'dissatisfied': 0,\n",
        "        'satisfied': 1})"
      ]
    },
    {
      "cell_type": "code",
      "execution_count": null,
      "id": "5dce77f7",
      "metadata": {
        "id": "5dce77f7"
      },
      "outputs": [],
      "source": [
        "# encodage labelencoder d'attribut 'Class'\n",
        "from sklearn.preprocessing import LabelEncoder\n",
        "LE = LabelEncoder()\n",
        "df[\"Class_cat\"] = LE.fit_transform(df[\"Class\"])\n",
        "df.drop([ \"Class\"], axis=1, inplace=True)"
      ]
    },
    {
      "cell_type": "code",
      "execution_count": null,
      "id": "96abd0a3",
      "metadata": {
        "id": "96abd0a3",
        "outputId": "5c3fd42b-384e-48da-b14a-ca325753be9d"
      },
      "outputs": [
        {
          "data": {
            "text/html": [
              "<div>\n",
              "<style scoped>\n",
              "    .dataframe tbody tr th:only-of-type {\n",
              "        vertical-align: middle;\n",
              "    }\n",
              "\n",
              "    .dataframe tbody tr th {\n",
              "        vertical-align: top;\n",
              "    }\n",
              "\n",
              "    .dataframe thead th {\n",
              "        text-align: right;\n",
              "    }\n",
              "</style>\n",
              "<table border=\"1\" class=\"dataframe\">\n",
              "  <thead>\n",
              "    <tr style=\"text-align: right;\">\n",
              "      <th></th>\n",
              "      <th>satisfaction</th>\n",
              "      <th>Gender</th>\n",
              "      <th>Customer Type</th>\n",
              "      <th>Age</th>\n",
              "      <th>Type of Travel</th>\n",
              "      <th>Flight Distance</th>\n",
              "      <th>Seat comfort</th>\n",
              "      <th>Departure/Arrival time convenient</th>\n",
              "      <th>Food and drink</th>\n",
              "      <th>Gate location</th>\n",
              "      <th>...</th>\n",
              "      <th>Ease of Online booking</th>\n",
              "      <th>On-board service</th>\n",
              "      <th>Leg room service</th>\n",
              "      <th>Baggage handling</th>\n",
              "      <th>Checkin service</th>\n",
              "      <th>Cleanliness</th>\n",
              "      <th>Online boarding</th>\n",
              "      <th>Departure Delay in Minutes</th>\n",
              "      <th>Arrival Delay in Minutes</th>\n",
              "      <th>Class_cat</th>\n",
              "    </tr>\n",
              "  </thead>\n",
              "  <tbody>\n",
              "    <tr>\n",
              "      <th>0</th>\n",
              "      <td>1</td>\n",
              "      <td>0</td>\n",
              "      <td>1</td>\n",
              "      <td>65</td>\n",
              "      <td>0</td>\n",
              "      <td>265</td>\n",
              "      <td>0</td>\n",
              "      <td>0</td>\n",
              "      <td>0</td>\n",
              "      <td>2</td>\n",
              "      <td>...</td>\n",
              "      <td>3</td>\n",
              "      <td>3</td>\n",
              "      <td>0</td>\n",
              "      <td>3</td>\n",
              "      <td>5</td>\n",
              "      <td>3</td>\n",
              "      <td>2</td>\n",
              "      <td>0</td>\n",
              "      <td>0.0</td>\n",
              "      <td>1</td>\n",
              "    </tr>\n",
              "    <tr>\n",
              "      <th>1</th>\n",
              "      <td>1</td>\n",
              "      <td>1</td>\n",
              "      <td>1</td>\n",
              "      <td>47</td>\n",
              "      <td>0</td>\n",
              "      <td>2464</td>\n",
              "      <td>0</td>\n",
              "      <td>0</td>\n",
              "      <td>0</td>\n",
              "      <td>3</td>\n",
              "      <td>...</td>\n",
              "      <td>3</td>\n",
              "      <td>4</td>\n",
              "      <td>4</td>\n",
              "      <td>4</td>\n",
              "      <td>2</td>\n",
              "      <td>3</td>\n",
              "      <td>2</td>\n",
              "      <td>310</td>\n",
              "      <td>305.0</td>\n",
              "      <td>0</td>\n",
              "    </tr>\n",
              "    <tr>\n",
              "      <th>2</th>\n",
              "      <td>1</td>\n",
              "      <td>0</td>\n",
              "      <td>1</td>\n",
              "      <td>15</td>\n",
              "      <td>0</td>\n",
              "      <td>2138</td>\n",
              "      <td>0</td>\n",
              "      <td>0</td>\n",
              "      <td>0</td>\n",
              "      <td>3</td>\n",
              "      <td>...</td>\n",
              "      <td>2</td>\n",
              "      <td>3</td>\n",
              "      <td>3</td>\n",
              "      <td>4</td>\n",
              "      <td>4</td>\n",
              "      <td>4</td>\n",
              "      <td>2</td>\n",
              "      <td>0</td>\n",
              "      <td>0.0</td>\n",
              "      <td>1</td>\n",
              "    </tr>\n",
              "    <tr>\n",
              "      <th>3</th>\n",
              "      <td>1</td>\n",
              "      <td>0</td>\n",
              "      <td>1</td>\n",
              "      <td>60</td>\n",
              "      <td>0</td>\n",
              "      <td>623</td>\n",
              "      <td>0</td>\n",
              "      <td>0</td>\n",
              "      <td>0</td>\n",
              "      <td>3</td>\n",
              "      <td>...</td>\n",
              "      <td>1</td>\n",
              "      <td>1</td>\n",
              "      <td>0</td>\n",
              "      <td>1</td>\n",
              "      <td>4</td>\n",
              "      <td>1</td>\n",
              "      <td>3</td>\n",
              "      <td>0</td>\n",
              "      <td>0.0</td>\n",
              "      <td>1</td>\n",
              "    </tr>\n",
              "    <tr>\n",
              "      <th>4</th>\n",
              "      <td>1</td>\n",
              "      <td>0</td>\n",
              "      <td>1</td>\n",
              "      <td>70</td>\n",
              "      <td>0</td>\n",
              "      <td>354</td>\n",
              "      <td>0</td>\n",
              "      <td>0</td>\n",
              "      <td>0</td>\n",
              "      <td>3</td>\n",
              "      <td>...</td>\n",
              "      <td>2</td>\n",
              "      <td>2</td>\n",
              "      <td>0</td>\n",
              "      <td>2</td>\n",
              "      <td>4</td>\n",
              "      <td>2</td>\n",
              "      <td>5</td>\n",
              "      <td>0</td>\n",
              "      <td>0.0</td>\n",
              "      <td>1</td>\n",
              "    </tr>\n",
              "    <tr>\n",
              "      <th>...</th>\n",
              "      <td>...</td>\n",
              "      <td>...</td>\n",
              "      <td>...</td>\n",
              "      <td>...</td>\n",
              "      <td>...</td>\n",
              "      <td>...</td>\n",
              "      <td>...</td>\n",
              "      <td>...</td>\n",
              "      <td>...</td>\n",
              "      <td>...</td>\n",
              "      <td>...</td>\n",
              "      <td>...</td>\n",
              "      <td>...</td>\n",
              "      <td>...</td>\n",
              "      <td>...</td>\n",
              "      <td>...</td>\n",
              "      <td>...</td>\n",
              "      <td>...</td>\n",
              "      <td>...</td>\n",
              "      <td>...</td>\n",
              "      <td>...</td>\n",
              "    </tr>\n",
              "    <tr>\n",
              "      <th>129875</th>\n",
              "      <td>1</td>\n",
              "      <td>0</td>\n",
              "      <td>0</td>\n",
              "      <td>29</td>\n",
              "      <td>0</td>\n",
              "      <td>1731</td>\n",
              "      <td>5</td>\n",
              "      <td>5</td>\n",
              "      <td>5</td>\n",
              "      <td>3</td>\n",
              "      <td>...</td>\n",
              "      <td>2</td>\n",
              "      <td>3</td>\n",
              "      <td>3</td>\n",
              "      <td>4</td>\n",
              "      <td>4</td>\n",
              "      <td>4</td>\n",
              "      <td>2</td>\n",
              "      <td>0</td>\n",
              "      <td>0.0</td>\n",
              "      <td>1</td>\n",
              "    </tr>\n",
              "    <tr>\n",
              "      <th>129876</th>\n",
              "      <td>0</td>\n",
              "      <td>1</td>\n",
              "      <td>0</td>\n",
              "      <td>63</td>\n",
              "      <td>0</td>\n",
              "      <td>2087</td>\n",
              "      <td>2</td>\n",
              "      <td>3</td>\n",
              "      <td>2</td>\n",
              "      <td>4</td>\n",
              "      <td>...</td>\n",
              "      <td>3</td>\n",
              "      <td>2</td>\n",
              "      <td>3</td>\n",
              "      <td>3</td>\n",
              "      <td>1</td>\n",
              "      <td>2</td>\n",
              "      <td>1</td>\n",
              "      <td>174</td>\n",
              "      <td>172.0</td>\n",
              "      <td>0</td>\n",
              "    </tr>\n",
              "    <tr>\n",
              "      <th>129877</th>\n",
              "      <td>0</td>\n",
              "      <td>1</td>\n",
              "      <td>0</td>\n",
              "      <td>69</td>\n",
              "      <td>0</td>\n",
              "      <td>2320</td>\n",
              "      <td>3</td>\n",
              "      <td>0</td>\n",
              "      <td>3</td>\n",
              "      <td>3</td>\n",
              "      <td>...</td>\n",
              "      <td>4</td>\n",
              "      <td>4</td>\n",
              "      <td>3</td>\n",
              "      <td>4</td>\n",
              "      <td>2</td>\n",
              "      <td>3</td>\n",
              "      <td>2</td>\n",
              "      <td>155</td>\n",
              "      <td>163.0</td>\n",
              "      <td>1</td>\n",
              "    </tr>\n",
              "    <tr>\n",
              "      <th>129878</th>\n",
              "      <td>0</td>\n",
              "      <td>1</td>\n",
              "      <td>0</td>\n",
              "      <td>66</td>\n",
              "      <td>0</td>\n",
              "      <td>2450</td>\n",
              "      <td>3</td>\n",
              "      <td>2</td>\n",
              "      <td>3</td>\n",
              "      <td>2</td>\n",
              "      <td>...</td>\n",
              "      <td>3</td>\n",
              "      <td>3</td>\n",
              "      <td>2</td>\n",
              "      <td>3</td>\n",
              "      <td>2</td>\n",
              "      <td>1</td>\n",
              "      <td>2</td>\n",
              "      <td>193</td>\n",
              "      <td>205.0</td>\n",
              "      <td>1</td>\n",
              "    </tr>\n",
              "    <tr>\n",
              "      <th>129879</th>\n",
              "      <td>0</td>\n",
              "      <td>0</td>\n",
              "      <td>0</td>\n",
              "      <td>38</td>\n",
              "      <td>0</td>\n",
              "      <td>4307</td>\n",
              "      <td>3</td>\n",
              "      <td>4</td>\n",
              "      <td>3</td>\n",
              "      <td>3</td>\n",
              "      <td>...</td>\n",
              "      <td>4</td>\n",
              "      <td>5</td>\n",
              "      <td>5</td>\n",
              "      <td>5</td>\n",
              "      <td>3</td>\n",
              "      <td>3</td>\n",
              "      <td>3</td>\n",
              "      <td>185</td>\n",
              "      <td>186.0</td>\n",
              "      <td>1</td>\n",
              "    </tr>\n",
              "  </tbody>\n",
              "</table>\n",
              "<p>129487 rows × 23 columns</p>\n",
              "</div>"
            ],
            "text/plain": [
              "        satisfaction  Gender  Customer Type  Age  Type of Travel  \\\n",
              "0                  1       0              1   65               0   \n",
              "1                  1       1              1   47               0   \n",
              "2                  1       0              1   15               0   \n",
              "3                  1       0              1   60               0   \n",
              "4                  1       0              1   70               0   \n",
              "...              ...     ...            ...  ...             ...   \n",
              "129875             1       0              0   29               0   \n",
              "129876             0       1              0   63               0   \n",
              "129877             0       1              0   69               0   \n",
              "129878             0       1              0   66               0   \n",
              "129879             0       0              0   38               0   \n",
              "\n",
              "        Flight Distance  Seat comfort  Departure/Arrival time convenient  \\\n",
              "0                   265             0                                  0   \n",
              "1                  2464             0                                  0   \n",
              "2                  2138             0                                  0   \n",
              "3                   623             0                                  0   \n",
              "4                   354             0                                  0   \n",
              "...                 ...           ...                                ...   \n",
              "129875             1731             5                                  5   \n",
              "129876             2087             2                                  3   \n",
              "129877             2320             3                                  0   \n",
              "129878             2450             3                                  2   \n",
              "129879             4307             3                                  4   \n",
              "\n",
              "        Food and drink  Gate location  ...  Ease of Online booking  \\\n",
              "0                    0              2  ...                       3   \n",
              "1                    0              3  ...                       3   \n",
              "2                    0              3  ...                       2   \n",
              "3                    0              3  ...                       1   \n",
              "4                    0              3  ...                       2   \n",
              "...                ...            ...  ...                     ...   \n",
              "129875               5              3  ...                       2   \n",
              "129876               2              4  ...                       3   \n",
              "129877               3              3  ...                       4   \n",
              "129878               3              2  ...                       3   \n",
              "129879               3              3  ...                       4   \n",
              "\n",
              "        On-board service  Leg room service  Baggage handling  Checkin service  \\\n",
              "0                      3                 0                 3                5   \n",
              "1                      4                 4                 4                2   \n",
              "2                      3                 3                 4                4   \n",
              "3                      1                 0                 1                4   \n",
              "4                      2                 0                 2                4   \n",
              "...                  ...               ...               ...              ...   \n",
              "129875                 3                 3                 4                4   \n",
              "129876                 2                 3                 3                1   \n",
              "129877                 4                 3                 4                2   \n",
              "129878                 3                 2                 3                2   \n",
              "129879                 5                 5                 5                3   \n",
              "\n",
              "        Cleanliness  Online boarding  Departure Delay in Minutes  \\\n",
              "0                 3                2                           0   \n",
              "1                 3                2                         310   \n",
              "2                 4                2                           0   \n",
              "3                 1                3                           0   \n",
              "4                 2                5                           0   \n",
              "...             ...              ...                         ...   \n",
              "129875            4                2                           0   \n",
              "129876            2                1                         174   \n",
              "129877            3                2                         155   \n",
              "129878            1                2                         193   \n",
              "129879            3                3                         185   \n",
              "\n",
              "        Arrival Delay in Minutes  Class_cat  \n",
              "0                            0.0          1  \n",
              "1                          305.0          0  \n",
              "2                            0.0          1  \n",
              "3                            0.0          1  \n",
              "4                            0.0          1  \n",
              "...                          ...        ...  \n",
              "129875                       0.0          1  \n",
              "129876                     172.0          0  \n",
              "129877                     163.0          1  \n",
              "129878                     205.0          1  \n",
              "129879                     186.0          1  \n",
              "\n",
              "[129487 rows x 23 columns]"
            ]
          },
          "execution_count": 15,
          "metadata": {},
          "output_type": "execute_result"
        }
      ],
      "source": [
        "df"
      ]
    },
    {
      "cell_type": "code",
      "execution_count": null,
      "id": "a6b7c5fe",
      "metadata": {
        "id": "a6b7c5fe"
      },
      "outputs": [],
      "source": [
        "from sklearn.preprocessing import KBinsDiscretizer\n",
        "#Conversion de l'attribut 'age' en données catégorielles de 5 valeurs\n",
        "Xbin = KBinsDiscretizer(n_bins=5, encode=\"ordinal\", strategy=\"quantile\")\n",
        "df[\"Age\"] = Xbin.fit_transform(df[[\"Age\"]])"
      ]
    },
    {
      "cell_type": "code",
      "execution_count": null,
      "id": "5a79c9fe",
      "metadata": {
        "id": "5a79c9fe"
      },
      "outputs": [],
      "source": [
        "#Convertir l'attribut 'flight distance' en données catégorielles composées de 5 valeurs\n",
        "Xbin = KBinsDiscretizer(n_bins=5, encode=\"ordinal\", strategy=\"uniform\")\n",
        "df[\"Flight Distance\"] = Xbin.fit_transform(df[[\"Flight Distance\"]])"
      ]
    },
    {
      "cell_type": "code",
      "execution_count": null,
      "id": "c1c69d42",
      "metadata": {
        "id": "c1c69d42"
      },
      "outputs": [],
      "source": [
        "#Convertir l'attribut 'departure delay time(minutes)' en données catégorielles composées de 5 valeurs\n",
        "Xbin = KBinsDiscretizer(n_bins=5, encode=\"ordinal\", strategy=\"uniform\")\n",
        "df[\"Departure Delay in Minutes\"] = Xbin.fit_transform(df[[\"Departure Delay in Minutes\"]])"
      ]
    },
    {
      "cell_type": "code",
      "execution_count": null,
      "id": "15f4828f",
      "metadata": {
        "id": "15f4828f"
      },
      "outputs": [],
      "source": [
        "#Convertir l'attribut 'arrival delay time(minutes)' en données catégorielles composées de 5 valeurs\n",
        "Xbin = KBinsDiscretizer(n_bins=5, encode=\"ordinal\", strategy=\"uniform\")\n",
        "df[\"Arrival Delay in Minutes\"] = Xbin.fit_transform(df[[\"Arrival Delay in Minutes\"]])"
      ]
    },
    {
      "cell_type": "code",
      "execution_count": null,
      "id": "a6ae0270",
      "metadata": {
        "id": "a6ae0270",
        "outputId": "ab82b0d7-93f8-4446-c96b-6fd736dc3e28"
      },
      "outputs": [
        {
          "data": {
            "text/html": [
              "<div>\n",
              "<style scoped>\n",
              "    .dataframe tbody tr th:only-of-type {\n",
              "        vertical-align: middle;\n",
              "    }\n",
              "\n",
              "    .dataframe tbody tr th {\n",
              "        vertical-align: top;\n",
              "    }\n",
              "\n",
              "    .dataframe thead th {\n",
              "        text-align: right;\n",
              "    }\n",
              "</style>\n",
              "<table border=\"1\" class=\"dataframe\">\n",
              "  <thead>\n",
              "    <tr style=\"text-align: right;\">\n",
              "      <th></th>\n",
              "      <th>satisfaction</th>\n",
              "      <th>Gender</th>\n",
              "      <th>Customer Type</th>\n",
              "      <th>Age</th>\n",
              "      <th>Type of Travel</th>\n",
              "      <th>Flight Distance</th>\n",
              "      <th>Seat comfort</th>\n",
              "      <th>Departure/Arrival time convenient</th>\n",
              "      <th>Food and drink</th>\n",
              "      <th>Gate location</th>\n",
              "      <th>...</th>\n",
              "      <th>Ease of Online booking</th>\n",
              "      <th>On-board service</th>\n",
              "      <th>Leg room service</th>\n",
              "      <th>Baggage handling</th>\n",
              "      <th>Checkin service</th>\n",
              "      <th>Cleanliness</th>\n",
              "      <th>Online boarding</th>\n",
              "      <th>Departure Delay in Minutes</th>\n",
              "      <th>Arrival Delay in Minutes</th>\n",
              "      <th>Class_cat</th>\n",
              "    </tr>\n",
              "  </thead>\n",
              "  <tbody>\n",
              "    <tr>\n",
              "      <th>0</th>\n",
              "      <td>1</td>\n",
              "      <td>0</td>\n",
              "      <td>1</td>\n",
              "      <td>4.0</td>\n",
              "      <td>0</td>\n",
              "      <td>0.0</td>\n",
              "      <td>0</td>\n",
              "      <td>0</td>\n",
              "      <td>0</td>\n",
              "      <td>2</td>\n",
              "      <td>...</td>\n",
              "      <td>3</td>\n",
              "      <td>3</td>\n",
              "      <td>0</td>\n",
              "      <td>3</td>\n",
              "      <td>5</td>\n",
              "      <td>3</td>\n",
              "      <td>2</td>\n",
              "      <td>0.0</td>\n",
              "      <td>0.0</td>\n",
              "      <td>1</td>\n",
              "    </tr>\n",
              "    <tr>\n",
              "      <th>1</th>\n",
              "      <td>1</td>\n",
              "      <td>1</td>\n",
              "      <td>1</td>\n",
              "      <td>3.0</td>\n",
              "      <td>0</td>\n",
              "      <td>1.0</td>\n",
              "      <td>0</td>\n",
              "      <td>0</td>\n",
              "      <td>0</td>\n",
              "      <td>3</td>\n",
              "      <td>...</td>\n",
              "      <td>3</td>\n",
              "      <td>4</td>\n",
              "      <td>4</td>\n",
              "      <td>4</td>\n",
              "      <td>2</td>\n",
              "      <td>3</td>\n",
              "      <td>2</td>\n",
              "      <td>0.0</td>\n",
              "      <td>0.0</td>\n",
              "      <td>0</td>\n",
              "    </tr>\n",
              "    <tr>\n",
              "      <th>2</th>\n",
              "      <td>1</td>\n",
              "      <td>0</td>\n",
              "      <td>1</td>\n",
              "      <td>0.0</td>\n",
              "      <td>0</td>\n",
              "      <td>1.0</td>\n",
              "      <td>0</td>\n",
              "      <td>0</td>\n",
              "      <td>0</td>\n",
              "      <td>3</td>\n",
              "      <td>...</td>\n",
              "      <td>2</td>\n",
              "      <td>3</td>\n",
              "      <td>3</td>\n",
              "      <td>4</td>\n",
              "      <td>4</td>\n",
              "      <td>4</td>\n",
              "      <td>2</td>\n",
              "      <td>0.0</td>\n",
              "      <td>0.0</td>\n",
              "      <td>1</td>\n",
              "    </tr>\n",
              "    <tr>\n",
              "      <th>3</th>\n",
              "      <td>1</td>\n",
              "      <td>0</td>\n",
              "      <td>1</td>\n",
              "      <td>4.0</td>\n",
              "      <td>0</td>\n",
              "      <td>0.0</td>\n",
              "      <td>0</td>\n",
              "      <td>0</td>\n",
              "      <td>0</td>\n",
              "      <td>3</td>\n",
              "      <td>...</td>\n",
              "      <td>1</td>\n",
              "      <td>1</td>\n",
              "      <td>0</td>\n",
              "      <td>1</td>\n",
              "      <td>4</td>\n",
              "      <td>1</td>\n",
              "      <td>3</td>\n",
              "      <td>0.0</td>\n",
              "      <td>0.0</td>\n",
              "      <td>1</td>\n",
              "    </tr>\n",
              "    <tr>\n",
              "      <th>4</th>\n",
              "      <td>1</td>\n",
              "      <td>0</td>\n",
              "      <td>1</td>\n",
              "      <td>4.0</td>\n",
              "      <td>0</td>\n",
              "      <td>0.0</td>\n",
              "      <td>0</td>\n",
              "      <td>0</td>\n",
              "      <td>0</td>\n",
              "      <td>3</td>\n",
              "      <td>...</td>\n",
              "      <td>2</td>\n",
              "      <td>2</td>\n",
              "      <td>0</td>\n",
              "      <td>2</td>\n",
              "      <td>4</td>\n",
              "      <td>2</td>\n",
              "      <td>5</td>\n",
              "      <td>0.0</td>\n",
              "      <td>0.0</td>\n",
              "      <td>1</td>\n",
              "    </tr>\n",
              "    <tr>\n",
              "      <th>...</th>\n",
              "      <td>...</td>\n",
              "      <td>...</td>\n",
              "      <td>...</td>\n",
              "      <td>...</td>\n",
              "      <td>...</td>\n",
              "      <td>...</td>\n",
              "      <td>...</td>\n",
              "      <td>...</td>\n",
              "      <td>...</td>\n",
              "      <td>...</td>\n",
              "      <td>...</td>\n",
              "      <td>...</td>\n",
              "      <td>...</td>\n",
              "      <td>...</td>\n",
              "      <td>...</td>\n",
              "      <td>...</td>\n",
              "      <td>...</td>\n",
              "      <td>...</td>\n",
              "      <td>...</td>\n",
              "      <td>...</td>\n",
              "      <td>...</td>\n",
              "    </tr>\n",
              "    <tr>\n",
              "      <th>129875</th>\n",
              "      <td>1</td>\n",
              "      <td>0</td>\n",
              "      <td>0</td>\n",
              "      <td>1.0</td>\n",
              "      <td>0</td>\n",
              "      <td>1.0</td>\n",
              "      <td>5</td>\n",
              "      <td>5</td>\n",
              "      <td>5</td>\n",
              "      <td>3</td>\n",
              "      <td>...</td>\n",
              "      <td>2</td>\n",
              "      <td>3</td>\n",
              "      <td>3</td>\n",
              "      <td>4</td>\n",
              "      <td>4</td>\n",
              "      <td>4</td>\n",
              "      <td>2</td>\n",
              "      <td>0.0</td>\n",
              "      <td>0.0</td>\n",
              "      <td>1</td>\n",
              "    </tr>\n",
              "    <tr>\n",
              "      <th>129876</th>\n",
              "      <td>0</td>\n",
              "      <td>1</td>\n",
              "      <td>0</td>\n",
              "      <td>4.0</td>\n",
              "      <td>0</td>\n",
              "      <td>1.0</td>\n",
              "      <td>2</td>\n",
              "      <td>3</td>\n",
              "      <td>2</td>\n",
              "      <td>4</td>\n",
              "      <td>...</td>\n",
              "      <td>3</td>\n",
              "      <td>2</td>\n",
              "      <td>3</td>\n",
              "      <td>3</td>\n",
              "      <td>1</td>\n",
              "      <td>2</td>\n",
              "      <td>1</td>\n",
              "      <td>0.0</td>\n",
              "      <td>0.0</td>\n",
              "      <td>0</td>\n",
              "    </tr>\n",
              "    <tr>\n",
              "      <th>129877</th>\n",
              "      <td>0</td>\n",
              "      <td>1</td>\n",
              "      <td>0</td>\n",
              "      <td>4.0</td>\n",
              "      <td>0</td>\n",
              "      <td>1.0</td>\n",
              "      <td>3</td>\n",
              "      <td>0</td>\n",
              "      <td>3</td>\n",
              "      <td>3</td>\n",
              "      <td>...</td>\n",
              "      <td>4</td>\n",
              "      <td>4</td>\n",
              "      <td>3</td>\n",
              "      <td>4</td>\n",
              "      <td>2</td>\n",
              "      <td>3</td>\n",
              "      <td>2</td>\n",
              "      <td>0.0</td>\n",
              "      <td>0.0</td>\n",
              "      <td>1</td>\n",
              "    </tr>\n",
              "    <tr>\n",
              "      <th>129878</th>\n",
              "      <td>0</td>\n",
              "      <td>1</td>\n",
              "      <td>0</td>\n",
              "      <td>4.0</td>\n",
              "      <td>0</td>\n",
              "      <td>1.0</td>\n",
              "      <td>3</td>\n",
              "      <td>2</td>\n",
              "      <td>3</td>\n",
              "      <td>2</td>\n",
              "      <td>...</td>\n",
              "      <td>3</td>\n",
              "      <td>3</td>\n",
              "      <td>2</td>\n",
              "      <td>3</td>\n",
              "      <td>2</td>\n",
              "      <td>1</td>\n",
              "      <td>2</td>\n",
              "      <td>0.0</td>\n",
              "      <td>0.0</td>\n",
              "      <td>1</td>\n",
              "    </tr>\n",
              "    <tr>\n",
              "      <th>129879</th>\n",
              "      <td>0</td>\n",
              "      <td>0</td>\n",
              "      <td>0</td>\n",
              "      <td>2.0</td>\n",
              "      <td>0</td>\n",
              "      <td>3.0</td>\n",
              "      <td>3</td>\n",
              "      <td>4</td>\n",
              "      <td>3</td>\n",
              "      <td>3</td>\n",
              "      <td>...</td>\n",
              "      <td>4</td>\n",
              "      <td>5</td>\n",
              "      <td>5</td>\n",
              "      <td>5</td>\n",
              "      <td>3</td>\n",
              "      <td>3</td>\n",
              "      <td>3</td>\n",
              "      <td>0.0</td>\n",
              "      <td>0.0</td>\n",
              "      <td>1</td>\n",
              "    </tr>\n",
              "  </tbody>\n",
              "</table>\n",
              "<p>129487 rows × 23 columns</p>\n",
              "</div>"
            ],
            "text/plain": [
              "        satisfaction  Gender  Customer Type  Age  Type of Travel  \\\n",
              "0                  1       0              1  4.0               0   \n",
              "1                  1       1              1  3.0               0   \n",
              "2                  1       0              1  0.0               0   \n",
              "3                  1       0              1  4.0               0   \n",
              "4                  1       0              1  4.0               0   \n",
              "...              ...     ...            ...  ...             ...   \n",
              "129875             1       0              0  1.0               0   \n",
              "129876             0       1              0  4.0               0   \n",
              "129877             0       1              0  4.0               0   \n",
              "129878             0       1              0  4.0               0   \n",
              "129879             0       0              0  2.0               0   \n",
              "\n",
              "        Flight Distance  Seat comfort  Departure/Arrival time convenient  \\\n",
              "0                   0.0             0                                  0   \n",
              "1                   1.0             0                                  0   \n",
              "2                   1.0             0                                  0   \n",
              "3                   0.0             0                                  0   \n",
              "4                   0.0             0                                  0   \n",
              "...                 ...           ...                                ...   \n",
              "129875              1.0             5                                  5   \n",
              "129876              1.0             2                                  3   \n",
              "129877              1.0             3                                  0   \n",
              "129878              1.0             3                                  2   \n",
              "129879              3.0             3                                  4   \n",
              "\n",
              "        Food and drink  Gate location  ...  Ease of Online booking  \\\n",
              "0                    0              2  ...                       3   \n",
              "1                    0              3  ...                       3   \n",
              "2                    0              3  ...                       2   \n",
              "3                    0              3  ...                       1   \n",
              "4                    0              3  ...                       2   \n",
              "...                ...            ...  ...                     ...   \n",
              "129875               5              3  ...                       2   \n",
              "129876               2              4  ...                       3   \n",
              "129877               3              3  ...                       4   \n",
              "129878               3              2  ...                       3   \n",
              "129879               3              3  ...                       4   \n",
              "\n",
              "        On-board service  Leg room service  Baggage handling  Checkin service  \\\n",
              "0                      3                 0                 3                5   \n",
              "1                      4                 4                 4                2   \n",
              "2                      3                 3                 4                4   \n",
              "3                      1                 0                 1                4   \n",
              "4                      2                 0                 2                4   \n",
              "...                  ...               ...               ...              ...   \n",
              "129875                 3                 3                 4                4   \n",
              "129876                 2                 3                 3                1   \n",
              "129877                 4                 3                 4                2   \n",
              "129878                 3                 2                 3                2   \n",
              "129879                 5                 5                 5                3   \n",
              "\n",
              "        Cleanliness  Online boarding  Departure Delay in Minutes  \\\n",
              "0                 3                2                         0.0   \n",
              "1                 3                2                         0.0   \n",
              "2                 4                2                         0.0   \n",
              "3                 1                3                         0.0   \n",
              "4                 2                5                         0.0   \n",
              "...             ...              ...                         ...   \n",
              "129875            4                2                         0.0   \n",
              "129876            2                1                         0.0   \n",
              "129877            3                2                         0.0   \n",
              "129878            1                2                         0.0   \n",
              "129879            3                3                         0.0   \n",
              "\n",
              "        Arrival Delay in Minutes  Class_cat  \n",
              "0                            0.0          1  \n",
              "1                            0.0          0  \n",
              "2                            0.0          1  \n",
              "3                            0.0          1  \n",
              "4                            0.0          1  \n",
              "...                          ...        ...  \n",
              "129875                       0.0          1  \n",
              "129876                       0.0          0  \n",
              "129877                       0.0          1  \n",
              "129878                       0.0          1  \n",
              "129879                       0.0          1  \n",
              "\n",
              "[129487 rows x 23 columns]"
            ]
          },
          "execution_count": 20,
          "metadata": {},
          "output_type": "execute_result"
        }
      ],
      "source": [
        "df"
      ]
    },
    {
      "cell_type": "code",
      "execution_count": null,
      "id": "b4e2232d",
      "metadata": {
        "id": "b4e2232d",
        "outputId": "d94e1b5e-2362-424e-eb4b-a36fb7d3db89"
      },
      "outputs": [
        {
          "data": {
            "text/plain": [
              "Text(0.5, 1.0, 'Airlines Customer Satisfaction Dataset')"
            ]
          },
          "execution_count": 21,
          "metadata": {},
          "output_type": "execute_result"
        },
        {
          "data": {
            "image/png": "[encoded data removed]",
            "text/plain": [
              "<Figure size 432x288 with 1 Axes>"
            ]
          },
          "metadata": {
            "needs_background": "light"
          },
          "output_type": "display_data"
        }
      ],
      "source": [
        "sns.barplot(x=\"Age\", y=\"satisfaction\", data=df).set_title(\"Airlines Customer Satisfaction Dataset\")\n"
      ]
    },
    {
      "cell_type": "code",
      "execution_count": null,
      "id": "10c3ef54",
      "metadata": {
        "id": "10c3ef54",
        "outputId": "2745a2f3-4381-4449-cf5a-2c3f30be14b7"
      },
      "outputs": [
        {
          "data": {
            "text/plain": [
              "<seaborn.axisgrid.FacetGrid at 0x234ed970df0>"
            ]
          },
          "execution_count": 22,
          "metadata": {},
          "output_type": "execute_result"
        },
        {
          "data": {
            "image/png": "[encoded data removed]",
            "text/plain": [
              "<Figure size 425.75x360 with 1 Axes>"
            ]
          },
          "metadata": {
            "needs_background": "light"
          },
          "output_type": "display_data"
        }
      ],
      "source": [
        "sns.catplot(data=df, kind=\"violin\", x=\"Gender\", y=\"Age\", hue=\"satisfaction\", split=True)"
      ]
    },
    {
      "cell_type": "code",
      "execution_count": null,
      "id": "80f6ae86",
      "metadata": {
        "id": "80f6ae86",
        "outputId": "9e9f9fef-c42d-444a-f6a7-9c6b1cdb924a"
      },
      "outputs": [
        {
          "data": {
            "text/plain": [
              "Text(0.5, 1.0, 'Airlines Customer Satisfaction Dataset')"
            ]
          },
          "execution_count": 23,
          "metadata": {},
          "output_type": "execute_result"
        },
        {
          "data": {
            "image/png": "[encoded data removed]",
            "text/plain": [
              "<Figure size 432x288 with 1 Axes>"
            ]
          },
          "metadata": {
            "needs_background": "light"
          },
          "output_type": "display_data"
        }
      ],
      "source": [
        "sns.barplot(x=\"Flight Distance\", y=\"satisfaction\", data=df).set_title(\"Airlines Customer Satisfaction Dataset\")\n"
      ]
    },
    {
      "cell_type": "code",
      "execution_count": null,
      "id": "671ae16a",
      "metadata": {
        "id": "671ae16a",
        "outputId": "d2281d08-337b-4e0e-e249-b5085b0c1ef4"
      },
      "outputs": [
        {
          "data": {
            "image/png": "[encoded data removed]",
            "text/plain": [
              "<Figure size 1440x1440 with 19 Axes>"
            ]
          },
          "metadata": {
            "needs_background": "light"
          },
          "output_type": "display_data"
        }
      ],
      "source": [
        "# Visualiser les outlayers\n",
        "import matplotlib.pyplot as plt\n",
        "eda_df = df.drop('satisfaction', axis=1).copy()\n",
        "nonbinary_columns = [column for column in eda_df.columns if len(eda_df[column].unique()) > 2]\n",
        "\n",
        "plt.figure(figsize=(20, 20))\n",
        "\n",
        "for i, column in enumerate(nonbinary_columns):\n",
        "    plt.subplot(3, 9, i + 1)\n",
        "    sns.boxplot(data=eda_df[column], color='darkblue')\n",
        "    plt.title(column)\n",
        "\n",
        "plt.suptitle(\"Boxplots With Outlayers\", size=30)\n",
        "plt.show()"
      ]
    },
    {
      "cell_type": "code",
      "execution_count": null,
      "id": "1da7cdf1",
      "metadata": {
        "id": "1da7cdf1"
      },
      "outputs": [],
      "source": [
        "import scipy.stats\n",
        "def remove_outliers(df, columns, threshold):\n",
        "    df = df.copy()\n",
        "\n",
        "    # Calculate the lower and upper bounds on the Z distribution given a threshold value\n",
        "    lower_bound = scipy.stats.norm.ppf(q=(threshold / 2), loc=0, scale=1)\n",
        "    upper_bound = scipy.stats.norm.ppf(q=1 - (threshold / 2), loc=0, scale=1)\n",
        "\n",
        "    # Calculate z-scores of every example in the columns specified\n",
        "    outlier_df = df.loc[:, columns].copy()\n",
        "    zscores = pd.DataFrame(scipy.stats.zscore(outlier_df, axis=0), index=outlier_df.index, columns=outlier_df.columns)\n",
        "\n",
        "    # Get boolean arrays denoting the outlier examples\n",
        "    lower_outliers = (zscores < lower_bound).any(axis=1)\n",
        "    upper_outliers = (zscores >= upper_bound).any(axis=1)\n",
        "\n",
        "    # Get indicies of all outlier examples\n",
        "    outliers = df[pd.concat([lower_outliers, upper_outliers], axis=1).any(axis=1)].index\n",
        "\n",
        "    # Drop the outliers\n",
        "    df = df.drop(outliers, axis=0).reset_index(drop=True)\n",
        "    print(len(outliers), \"examples dropped.\")\n",
        "\n",
        "    return df"
      ]
    },
    {
      "cell_type": "code",
      "execution_count": null,
      "id": "9197a39a",
      "metadata": {
        "id": "9197a39a",
        "outputId": "d3328661-31c4-432e-d7b6-986765cc218d"
      },
      "outputs": [
        {
          "name": "stdout",
          "output_type": "stream",
          "text": [
            "38670 examples dropped.\n"
          ]
        },
        {
          "data": {
            "image/png": "[encoded data removed]",
            "text/plain": [
              "<Figure size 1440x1440 with 19 Axes>"
            ]
          },
          "metadata": {
            "needs_background": "light"
          },
          "output_type": "display_data"
        }
      ],
      "source": [
        "outliers_df = remove_outliers(\n",
        "    df=df,\n",
        "    columns=[\n",
        "        'On-board service',\n",
        "        'Checkin service',\n",
        "        'Departure Delay in Minutes',\n",
        "        'Arrival Delay in Minutes',\n",
        "        'Online boarding',\n",
        "        'Flight Distance'\n",
        "    ],\n",
        "    threshold=0.08\n",
        ")\n",
        "\n",
        "plt.figure(figsize=(20, 20))\n",
        "\n",
        "for i, column in enumerate(nonbinary_columns):\n",
        "    plt.subplot(3, 7, i + 1)\n",
        "    sns.boxplot(data=outliers_df[column], color='cornflowerblue')\n",
        "    plt.title(column)\n",
        "\n",
        "plt.suptitle(\"Boxplots Without Outliers\", size=30)\n",
        "plt.show()"
      ]
    },
    {
      "cell_type": "code",
      "execution_count": null,
      "id": "0162089d",
      "metadata": {
        "id": "0162089d"
      },
      "outputs": [],
      "source": [
        "#Préparation de l'ensemble d'entraînement et de test\n",
        "X=df.drop([\"satisfaction\"],axis=1)\n",
        "y=df[\"satisfaction\"]\n",
        "X\n",
        "y\n",
        "#Splitting le data set en 70% train, 30% test\n",
        "from sklearn.model_selection import train_test_split\n",
        "X_train, X_test, y_train, y_test = train_test_split(X, y, test_size=0.25, random_state=1)"
      ]
    },
    {
      "cell_type": "code",
      "execution_count": null,
      "id": "ea67b911",
      "metadata": {
        "id": "ea67b911",
        "outputId": "2fa8a558-28da-4688-9a17-48e9a1ed10e5"
      },
      "outputs": [
        {
          "name": "stdout",
          "output_type": "stream",
          "text": [
            "Feature Gender: 2153.988699\n",
            "Feature Customer Type: 1532.674440\n",
            "Feature Age: 1604.077877\n",
            "Feature Type of Travel: 351.973484\n",
            "Feature Flight Distance: 46.958106\n",
            "Feature Seat comfort: 3792.528176\n",
            "Feature Departure/Arrival time convenient: 20.893165\n",
            "Feature Food and drink: 1007.885469\n",
            "Feature Gate location: 9.498247\n",
            "Feature Inflight wifi service: 2673.994554\n",
            "Feature Inflight entertainment: 14242.674500\n",
            "Feature Online support: 7157.551843\n",
            "Feature Ease of Online booking: 8869.343501\n",
            "Feature On-board service: 5579.732936\n",
            "Feature Leg room service: 4390.225854\n",
            "Feature Baggage handling: 2390.024156\n",
            "Feature Checkin service: 3310.488265\n",
            "Feature Cleanliness: 2374.030993\n",
            "Feature Online boarding: 5597.101830\n",
            "Feature Departure Delay in Minutes: 4946.677369\n"
          ]
        },
        {
          "data": {
            "image/png": "[encoded data removed]",
            "text/plain": [
              "<Figure size 432x288 with 1 Axes>"
            ]
          },
          "metadata": {
            "needs_background": "light"
          },
          "output_type": "display_data"
        }
      ],
      "source": [
        "from matplotlib import pyplot\n",
        "\n",
        "for i in range(len(fs.scores_)):\n",
        "    print('Feature %s: %f' % (X.columns[i], fs.scores_[i]))\n",
        "# plot the scores\n",
        "pyplot.bar([i for i in range(len(fs.scores_))], fs.scores_)\n",
        "pyplot.show()"
      ]
    },
    {
      "cell_type": "code",
      "execution_count": null,
      "id": "6bc5ee9d",
      "metadata": {
        "id": "6bc5ee9d",
        "outputId": "f8b70c57-05a5-4438-825c-fdfd4aabc896"
      },
      "outputs": [
        {
          "data": {
            "text/plain": [
              "[0.24993557423115464,\n",
              " 0.14996717133507,\n",
              " 1.9782764060660218,\n",
              " 0.21293240111596326,\n",
              " 0.5323620747819298,\n",
              " 1.9414901374032805,\n",
              " 2.3298820027451663,\n",
              " 2.0855884383073935,\n",
              " 1.7046360660595432,\n",
              " 1.736810938318785,\n",
              " 1.8086327876860566,\n",
              " 1.7049359024592223,\n",
              " 1.7050405055967108,\n",
              " 1.6139520725629672,\n",
              " 1.6674569507185988,\n",
              " 1.3422565152303962,\n",
              " 1.5877848979139402,\n",
              " 1.3253687273558583,\n",
              " 1.6848132056252372,\n",
              " 0.0027346082182439463,\n",
              " 0.003001329010224861,\n",
              " 0.38699933645843204]"
            ]
          },
          "execution_count": 29,
          "metadata": {},
          "output_type": "execute_result"
        }
      ],
      "source": [
        "#variance\n",
        "from sklearn.feature_selection import VarianceThreshold\n",
        "\n",
        "selector = VarianceThreshold(threshold = 0.055)\n",
        "selector.fit(X_train, y)\n",
        "#selector.fit_transform(X_train_enc)\n",
        "x_reduced_train=selector.transform(X_train)\n",
        "x_reduced_test=selector.transform(X_test)\n",
        "selector.variances_.tolist()"
      ]
    },
    {
      "cell_type": "code",
      "execution_count": null,
      "id": "3bac0b36",
      "metadata": {
        "id": "3bac0b36",
        "outputId": "68f995af-a7f2-4e7b-8bff-a4c072595d66"
      },
      "outputs": [
        {
          "data": {
            "text/plain": [
              "(97115, 20)"
            ]
          },
          "execution_count": 30,
          "metadata": {},
          "output_type": "execute_result"
        }
      ],
      "source": [
        "x_reduced_train.shape"
      ]
    },
    {
      "cell_type": "code",
      "execution_count": null,
      "id": "dfbd24f3",
      "metadata": {
        "id": "dfbd24f3"
      },
      "outputs": [],
      "source": [
        "#Ki2\n",
        "from sklearn.feature_selection import SelectKBest\n",
        "from sklearn.feature_selection import chi2\n",
        "fs = SelectKBest(score_func=chi2, k=15)\n",
        "fs.fit(x_reduced_train, y_train)\n",
        "X_train_fs = fs.transform(x_reduced_train)\n",
        "X_test_fs = fs.transform(x_reduced_test)"
      ]
    },
    {
      "cell_type": "code",
      "execution_count": null,
      "id": "a73fafca",
      "metadata": {
        "id": "a73fafca",
        "outputId": "57fb885a-cef6-45a7-d1dc-b82551c480ce"
      },
      "outputs": [
        {
          "data": {
            "text/plain": [
              "(97115, 15)"
            ]
          },
          "execution_count": 32,
          "metadata": {},
          "output_type": "execute_result"
        }
      ],
      "source": [
        "X_train_fs.shape"
      ]
    },
    {
      "cell_type": "code",
      "execution_count": null,
      "id": "8fe5eae2",
      "metadata": {
        "id": "8fe5eae2",
        "outputId": "e657e1d1-746a-4e10-f273-c8615658969d"
      },
      "outputs": [
        {
          "data": {
            "text/plain": [
              "DecisionTreeClassifier()"
            ]
          },
          "execution_count": 58,
          "metadata": {},
          "output_type": "execute_result"
        }
      ],
      "source": [
        "#Entraînement du modèle avec l'algorithme d'arbre de décision\n",
        "from sklearn.tree import DecisionTreeClassifier\n",
        "DT_model1 = DecisionTreeClassifier()\n",
        "DT_model1.fit(X_train_fs, y_train)"
      ]
    },
    {
      "cell_type": "code",
      "execution_count": null,
      "id": "ba83fdcc",
      "metadata": {
        "id": "ba83fdcc"
      },
      "outputs": [],
      "source": [
        "#Classification du modèle avec des données de test\n",
        "y_test_dt = DT_model1.predict(X_test_fs)"
      ]
    },
    {
      "cell_type": "code",
      "execution_count": null,
      "id": "79615d03",
      "metadata": {
        "id": "79615d03",
        "outputId": "4dcfa44f-6427-454b-a053-7c63263f24c3"
      },
      "outputs": [
        {
          "data": {
            "image/png": "[encoded data removed]",
            "text/plain": [
              "<Figure size 1800x1440 with 1 Axes>"
            ]
          },
          "metadata": {
            "needs_background": "light"
          },
          "output_type": "display_data"
        }
      ],
      "source": [
        "from sklearn import tree\n",
        "\n",
        "fig = plt.figure(figsize=(25,20))\n",
        "_ = tree.plot_tree(DT_model1, feature_names=X.columns, max_depth=2, filled=True)"
      ]
    },
    {
      "cell_type": "code",
      "execution_count": null,
      "id": "d4f4e89e",
      "metadata": {
        "id": "d4f4e89e",
        "outputId": "d1d5efd0-341c-4841-d8dd-7b7c6c2fce1c"
      },
      "outputs": [
        {
          "data": {
            "text/plain": [
              "array([[13503,  1229],\n",
              "       [ 1297, 16343]], dtype=int64)"
            ]
          },
          "execution_count": 61,
          "metadata": {},
          "output_type": "execute_result"
        }
      ],
      "source": [
        "#Matrice de confusion\n",
        "from sklearn.metrics import confusion_matrix\n",
        "conf_dt = confusion_matrix(y_test, y_test_dt)\n",
        "conf_dt"
      ]
    },
    {
      "cell_type": "code",
      "execution_count": null,
      "id": "5441e5f2",
      "metadata": {
        "id": "5441e5f2",
        "outputId": "bc633bad-bc56-44b7-c201-2efb639f7d46"
      },
      "outputs": [
        {
          "data": {
            "text/plain": [
              "<AxesSubplot:>"
            ]
          },
          "execution_count": 62,
          "metadata": {},
          "output_type": "execute_result"
        },
        {
          "data": {
            "image/png": "[encoded data removed]",
            "text/plain": [
              "<Figure size 432x288 with 2 Axes>"
            ]
          },
          "metadata": {
            "needs_background": "light"
          },
          "output_type": "display_data"
        }
      ],
      "source": [
        "group_names = ['True Neg','False Pos','False Neg','True Pos']\n",
        "group_counts = [\"{0:0.0f}\".format(value) for value in\n",
        "                conf_dt.flatten()]\n",
        "group_percentages = [\"{0:.2%}\".format(value) for value in\n",
        "                    conf_dt.flatten()/np.sum(conf_dt)]\n",
        "labels = [f\"{v1}\\n{v2}\\n{v3}\" for v1, v2, v3 in\n",
        "          zip(group_names,group_counts,group_percentages)]\n",
        "labels = np.asarray(labels).reshape(2,2)\n",
        "sns.heatmap(conf_dt, annot=labels, fmt='', cmap='Blues')"
      ]
    },
    {
      "cell_type": "code",
      "execution_count": null,
      "id": "7942d7f1",
      "metadata": {
        "id": "7942d7f1",
        "outputId": "2fbb67a2-0a77-4dcd-e21e-6b3d49a2d11c"
      },
      "outputs": [
        {
          "name": "stdout",
          "output_type": "stream",
          "text": [
            "Accuracy: 0.9219696033609291\n",
            "f-mesure: 0.9282630921276838\n"
          ]
        }
      ],
      "source": [
        "#Démontrer le succès de la prédiction de classification du modèle\n",
        "from sklearn.metrics import accuracy_score\n",
        "from sklearn.metrics import f1_score\n",
        "#Démontrer le succès de la prédiction de classification du modèle\n",
        "acc_dt= accuracy_score(y_test, y_test_dt)\n",
        "print(\"Accuracy:\",acc_dt )\n",
        "dt_f1 = f1_score(y_test, y_test_dt)\n",
        "print(\"f-mesure:\",dt_f1)"
      ]
    },
    {
      "cell_type": "code",
      "execution_count": null,
      "id": "082e41f8",
      "metadata": {
        "id": "082e41f8",
        "outputId": "5ae299e0-b06e-4e1a-89ee-95aa68419ca1"
      },
      "outputs": [
        {
          "data": {
            "text/plain": [
              "GaussianNB()"
            ]
          },
          "execution_count": 64,
          "metadata": {},
          "output_type": "execute_result"
        }
      ],
      "source": [
        "#Entraînement du modèle avec l'algorithme Naive Bayes\n",
        "from sklearn.naive_bayes import GaussianNB\n",
        "nb_model = GaussianNB()\n",
        "nb_model.fit(X_train_fs, y_train)"
      ]
    },
    {
      "cell_type": "code",
      "execution_count": null,
      "id": "ed19b75f",
      "metadata": {
        "id": "ed19b75f"
      },
      "outputs": [],
      "source": [
        "#Classification du modèle avec des données de test\n",
        "y_test_nb = nb_model.predict(X_test_fs)"
      ]
    },
    {
      "cell_type": "code",
      "execution_count": null,
      "id": "44c92d3d",
      "metadata": {
        "id": "44c92d3d",
        "outputId": "5f38a56f-44de-4501-e6f9-72072f791530"
      },
      "outputs": [
        {
          "data": {
            "text/plain": [
              "array([[11673,  3059],\n",
              "       [ 3033, 14607]], dtype=int64)"
            ]
          },
          "execution_count": 66,
          "metadata": {},
          "output_type": "execute_result"
        }
      ],
      "source": [
        "#Matrice de confusion\n",
        "from sklearn.metrics import confusion_matrix\n",
        "conf_nb = confusion_matrix(y_test, y_test_nb)\n",
        "conf_nb"
      ]
    },
    {
      "cell_type": "code",
      "execution_count": null,
      "id": "91ff7b67",
      "metadata": {
        "id": "91ff7b67",
        "outputId": "24d163b8-5c44-451e-b471-58ec88f23f9c"
      },
      "outputs": [
        {
          "data": {
            "text/plain": [
              "<AxesSubplot:>"
            ]
          },
          "execution_count": 67,
          "metadata": {},
          "output_type": "execute_result"
        },
        {
          "data": {
            "image/png": "[encoded data removed]",
            "text/plain": [
              "<Figure size 432x288 with 2 Axes>"
            ]
          },
          "metadata": {
            "needs_background": "light"
          },
          "output_type": "display_data"
        }
      ],
      "source": [
        "group_names = ['True Neg','False Pos','False Neg','True Pos']\n",
        "group_counts = [\"{0:0.0f}\".format(value) for value in\n",
        "                conf_nb.flatten()]\n",
        "group_percentages = [\"{0:.2%}\".format(value) for value in\n",
        "                    conf_nb.flatten()/np.sum(conf_nb)]\n",
        "labels = [f\"{v1}\\n{v2}\\n{v3}\" for v1, v2, v3 in\n",
        "          zip(group_names,group_counts,group_percentages)]\n",
        "labels = np.asarray(labels).reshape(2,2)\n",
        "sns.heatmap(conf_nb, annot=labels, fmt='', cmap='Blues')"
      ]
    },
    {
      "cell_type": "code",
      "execution_count": null,
      "id": "7e5ad769",
      "metadata": {
        "id": "7e5ad769",
        "outputId": "c39e1415-0803-4d44-9f40-61e2c7bad6d0"
      },
      "outputs": [
        {
          "name": "stdout",
          "output_type": "stream",
          "text": [
            "Accuracy: 0.8118126776226369\n",
            "f-mesure: 0.827451424687022\n"
          ]
        }
      ],
      "source": [
        "#Démontrer le succès de la prédiction de classification du modèle\n",
        "nb_acc= accuracy_score(y_test, y_test_nb)\n",
        "print(\"Accuracy:\",nb_acc )\n",
        "nb_f1 = f1_score(y_test, y_test_nb)\n",
        "print(\"f-mesure:\",nb_f1)"
      ]
    },
    {
      "cell_type": "code",
      "execution_count": null,
      "id": "4a9ffe96",
      "metadata": {
        "id": "4a9ffe96",
        "outputId": "c6ad86fe-c42b-4f41-fa79-12984d57a176"
      },
      "outputs": [
        {
          "data": {
            "text/plain": [
              "LogisticRegression()"
            ]
          },
          "execution_count": 69,
          "metadata": {},
          "output_type": "execute_result"
        }
      ],
      "source": [
        "#Entraînement du modèle avec l'algorithme Regression logestique\n",
        "from sklearn.linear_model import LogisticRegression\n",
        "lg_model = LogisticRegression()\n",
        "lg_model.fit(X_train_fs, y_train)"
      ]
    },
    {
      "cell_type": "code",
      "execution_count": null,
      "id": "44790f90",
      "metadata": {
        "id": "44790f90"
      },
      "outputs": [],
      "source": [
        "#Classification du modèle avec des données de test\n",
        "y_test_lg=lg_model.predict(X_test_fs)"
      ]
    },
    {
      "cell_type": "code",
      "execution_count": null,
      "id": "1b686140",
      "metadata": {
        "id": "1b686140",
        "outputId": "a6efa066-426b-4d70-b68c-024bb186b5a5"
      },
      "outputs": [
        {
          "data": {
            "text/plain": [
              "array([[11801,  2931],\n",
              "       [ 2711, 14929]], dtype=int64)"
            ]
          },
          "execution_count": 71,
          "metadata": {},
          "output_type": "execute_result"
        }
      ],
      "source": [
        "# Matrice de confision\n",
        "conf_lg = confusion_matrix(y_test, y_test_lg)\n",
        "conf_lg"
      ]
    },
    {
      "cell_type": "code",
      "execution_count": null,
      "id": "5b55a92c",
      "metadata": {
        "id": "5b55a92c",
        "outputId": "98135ab6-eb23-42c3-eb0a-a47b4881e9eb"
      },
      "outputs": [
        {
          "data": {
            "text/plain": [
              "<AxesSubplot:>"
            ]
          },
          "execution_count": 72,
          "metadata": {},
          "output_type": "execute_result"
        },
        {
          "data": {
            "image/png": "[encoded data removed]",
            "text/plain": [
              "<Figure size 432x288 with 2 Axes>"
            ]
          },
          "metadata": {
            "needs_background": "light"
          },
          "output_type": "display_data"
        }
      ],
      "source": [
        "group_names = ['True Neg','False Pos','False Neg','True Pos']\n",
        "group_counts = [\"{0:0.0f}\".format(value) for value in\n",
        "                conf_lg.flatten()]\n",
        "group_percentages = [\"{0:.2%}\".format(value) for value in\n",
        "                    conf_lg.flatten()/np.sum(conf_lg)]\n",
        "labels = [f\"{v1}\\n{v2}\\n{v3}\" for v1, v2, v3 in\n",
        "          zip(group_names,group_counts,group_percentages)]\n",
        "labels = np.asarray(labels).reshape(2,2)\n",
        "sns.heatmap(conf_lg, annot=labels, fmt='', cmap='Blues')"
      ]
    },
    {
      "cell_type": "code",
      "execution_count": null,
      "id": "c26f59f7",
      "metadata": {
        "id": "c26f59f7",
        "outputId": "b4373f11-4811-4092-9bc1-9745e88bfb75"
      },
      "outputs": [
        {
          "name": "stdout",
          "output_type": "stream",
          "text": [
            "Accuracy: 0.8257135796367231\n",
            "f-mesure: 0.8410704225352114\n"
          ]
        }
      ],
      "source": [
        "#Démontrer le succès de la prédiction de classification du modèle\n",
        "lg_acc= accuracy_score(y_test, y_test_lg)\n",
        "print(\"Accuracy:\",lg_acc )\n",
        "lg_f1 = f1_score(y_test, y_test_lg)\n",
        "print(\"f-mesure:\",lg_f1)"
      ]
    },
    {
      "cell_type": "code",
      "execution_count": null,
      "id": "f14e4063",
      "metadata": {
        "id": "f14e4063"
      },
      "outputs": [],
      "source": [
        "#Entraînement du modèle avec l'algorithme SVM\n",
        "from sklearn import svm\n",
        "clf = svm.SVC(kernel='linear')\n",
        "clf.fit(X_train_fs, y_train)\n",
        "#Classification du modèle avec des données de test\n",
        "y_pred_svm = clf.predict(X_test_fs)"
      ]
    },
    {
      "cell_type": "code",
      "execution_count": null,
      "id": "fc920613",
      "metadata": {
        "id": "fc920613",
        "outputId": "896e23e0-7d3d-499a-adba-a5b74ea4864c"
      },
      "outputs": [
        {
          "name": "stdout",
          "output_type": "stream",
          "text": [
            "Accuracy: 0.830470777214877\n",
            "f-mesure: 0.843673446134564\n"
          ]
        }
      ],
      "source": [
        "#Démontrer le succès de la prédiction de classification du modèle\n",
        "from sklearn import metrics\n",
        "svm_acc=metrics.accuracy_score(y_test, y_pred_svm)\n",
        "print(\"Accuracy:\",svm_acc)\n",
        "svm_f1 = f1_score(y_test, y_pred_svm)\n",
        "print(\"f-mesure:\",svm_f1)"
      ]
    },
    {
      "cell_type": "code",
      "execution_count": null,
      "id": "f010ca7d",
      "metadata": {
        "id": "f010ca7d",
        "outputId": "aace7ea6-b1c8-4ca7-f96c-45a852dfb73f"
      },
      "outputs": [
        {
          "data": {
            "text/plain": [
              "array([[12075,  2657],\n",
              "       [ 2831, 14809]], dtype=int64)"
            ]
          },
          "execution_count": 87,
          "metadata": {},
          "output_type": "execute_result"
        }
      ],
      "source": [
        "# Matrice de confision\n",
        "conf_svm = confusion_matrix(y_test, y_pred_svm)\n",
        "conf_svm"
      ]
    },
    {
      "cell_type": "code",
      "execution_count": null,
      "id": "1df590b5",
      "metadata": {
        "id": "1df590b5",
        "outputId": "0e4a9afa-f3ad-4b58-fabb-cee15cfaf2b3"
      },
      "outputs": [
        {
          "data": {
            "text/plain": [
              "<AxesSubplot:>"
            ]
          },
          "execution_count": 88,
          "metadata": {},
          "output_type": "execute_result"
        },
        {
          "data": {
            "image/png": "[encoded data removed]",
            "text/plain": [
              "<Figure size 432x288 with 2 Axes>"
            ]
          },
          "metadata": {
            "needs_background": "light"
          },
          "output_type": "display_data"
        }
      ],
      "source": [
        "group_names = ['True Neg','False Pos','False Neg','True Pos']\n",
        "group_counts = [\"{0:0.0f}\".format(value) for value in\n",
        "                conf_svm.flatten()]\n",
        "group_percentages = [\"{0:.2%}\".format(value) for value in\n",
        "                    conf_svm.flatten()/np.sum(conf_svm)]\n",
        "labels = [f\"{v1}\\n{v2}\\n{v3}\" for v1, v2, v3 in\n",
        "          zip(group_names,group_counts,group_percentages)]\n",
        "labels = np.asarray(labels).reshape(2,2)\n",
        "sns.heatmap(conf_svm, annot=labels, fmt='', cmap='Blues')"
      ]
    },
    {
      "cell_type": "code",
      "execution_count": null,
      "id": "8125df84",
      "metadata": {
        "id": "8125df84",
        "outputId": "2f385803-a708-4161-8f29-4799d9537fcf"
      },
      "outputs": [
        {
          "data": {
            "image/png": "[encoded data removed]",
            "text/plain": [
              "<Figure size 1008x1008 with 2 Axes>"
            ]
          },
          "metadata": {
            "needs_background": "light"
          },
          "output_type": "display_data"
        }
      ],
      "source": [
        "\n",
        "compare = pd.DataFrame({\"Model\": [\"Decision Tree\", \"GaussianNB\",\"Logistic Regression\", \"SVM\"],\n",
        "                        \"Accuracy\": [acc_dt, nb_acc,lg_acc, svm_acc],\n",
        "                        \"F1\": [dt_f1, nb_f1,lg_f1, svm_f1]})\n",
        "\n",
        "def labels(ax):\n",
        "    for p in ax.patches:\n",
        "        width = p.get_width()                        # get bar length\n",
        "        ax.text(width,                               # set the text at 1 unit right of the bar\n",
        "                p.get_y() + p.get_height() / 2,      # get Y coordinate + X coordinate / 2\n",
        "                '{:1.3f}'.format(width),             # set variable to display, 2 decimals\n",
        "                ha = 'left',                         # horizontal alignment\n",
        "                va = 'center')                       # vertical alignment\n",
        "\n",
        "plt.figure(figsize=(14,14))\n",
        "plt.subplot(411)\n",
        "compare = compare.sort_values(by=\"F1\", ascending=False)\n",
        "ax=sns.barplot(x=\"F1\", y=\"Model\", data=compare, palette=\"Blues_d\")\n",
        "labels(ax)\n",
        "plt.subplot(413)\n",
        "compare = compare.sort_values(by=\"Accuracy\", ascending=False)\n",
        "ax=sns.barplot(x=\"Accuracy\", y=\"Model\", data=compare, palette=\"Blues_d\")\n",
        "labels(ax)\n",
        "plt.subplot(411)\n",
        "compare = compare.sort_values(by=\"F1\", ascending=False)\n",
        "ax=sns.barplot(x=\"F1\", y=\"Model\", data=compare, palette=\"Blues_d\")\n",
        "labels(ax)\n",
        "plt.show()"
      ]
    },
    {
      "cell_type": "code",
      "execution_count": null,
      "id": "40e03a5f",
      "metadata": {
        "id": "40e03a5f"
      },
      "outputs": [],
      "source": [
        "#Decision Tree\n",
        "import pickle\n",
        "with open(\"DT_model1.pkl\", \"wb\") as f:\n",
        "        pickle.dump(DT_model1, f)"
      ]
    },
    {
      "cell_type": "code",
      "execution_count": null,
      "id": "c19e3510",
      "metadata": {
        "id": "c19e3510"
      },
      "outputs": [],
      "source": [
        "#Loading the Decision Tree model and showing the prediction accuracy\n",
        "dt_model_2 = pickle.load(open(\"DT_model1.pkl\", \"rb\"))\n",
        "y_test_dt_2 = dt_model_2.predict(X_test_fs)"
      ]
    },
    {
      "cell_type": "code",
      "execution_count": null,
      "id": "7b6427e3",
      "metadata": {
        "id": "7b6427e3",
        "outputId": "eaa099e4-5f5d-4b73-8608-808d2801ab63"
      },
      "outputs": [
        {
          "data": {
            "text/plain": [
              "0.9219696033609291"
            ]
          },
          "execution_count": 83,
          "metadata": {},
          "output_type": "execute_result"
        }
      ],
      "source": [
        "acc_dt_2 = accuracy_score(y_test, y_test_dt_2)\n",
        "acc_dt_2"
      ]
    },
    {
      "cell_type": "code",
      "execution_count": null,
      "id": "7d461051",
      "metadata": {
        "id": "7d461051"
      },
      "outputs": [],
      "source": []
    }
  ],
  "metadata": {
    "kernelspec": {
      "display_name": "Python 3 (ipykernel)",
      "language": "python",
      "name": "python3"
    },
    "language_info": {
      "codemirror_mode": {
        "name": "ipython",
        "version": 3
      },
      "file_extension": ".py",
      "mimetype": "text/x-python",
      "name": "python",
      "nbconvert_exporter": "python",
      "pygments_lexer": "ipython3",
      "version": "3.9.7"
    },
    "colab": {
      "provenance": []
    }
  },
  "nbformat": 4,
  "nbformat_minor": 5
}